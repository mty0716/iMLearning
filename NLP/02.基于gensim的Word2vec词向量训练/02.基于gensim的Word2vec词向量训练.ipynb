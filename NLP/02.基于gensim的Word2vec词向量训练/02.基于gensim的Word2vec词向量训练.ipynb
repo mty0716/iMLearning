{
 "cells": [
  {
   "cell_type": "code",
   "execution_count": 2,
   "metadata": {},
   "outputs": [
    {
     "name": "stderr",
     "output_type": "stream",
     "text": [
      "D:\\Installation\\Anaconda\\envs\\mlearning\\lib\\site-packages\\gensim\\utils.py:865: UserWarning: detected Windows; aliasing chunkize to chunkize_serial\n",
      "  warnings.warn(\"detected Windows; aliasing chunkize to chunkize_serial\")\n",
      "Using TensorFlow backend.\n"
     ]
    }
   ],
   "source": [
    "# 首先导入所需要的库\n",
    "\n",
    "import pandas as pd\n",
    "from gensim.models import Word2Vec\n",
    "from gensim.models.word2vec import LineSentence"
   ]
  },
  {
   "cell_type": "code",
   "execution_count": 5,
   "metadata": {
    "scrolled": false
   },
   "outputs": [
    {
     "data": {
      "text/html": [
       "<div>\n",
       "<style>\n",
       "    .dataframe thead tr:only-child th {\n",
       "        text-align: right;\n",
       "    }\n",
       "\n",
       "    .dataframe thead th {\n",
       "        text-align: left;\n",
       "    }\n",
       "\n",
       "    .dataframe tbody tr th {\n",
       "        vertical-align: top;\n",
       "    }\n",
       "</style>\n",
       "<table border=\"1\" class=\"dataframe\">\n",
       "  <thead>\n",
       "    <tr style=\"text-align: right;\">\n",
       "      <th></th>\n",
       "      <th>id</th>\n",
       "      <th>word</th>\n",
       "    </tr>\n",
       "  </thead>\n",
       "  <tbody>\n",
       "    <tr>\n",
       "      <th>0</th>\n",
       "      <td>1</td>\n",
       "      <td>大卫</td>\n",
       "    </tr>\n",
       "    <tr>\n",
       "      <th>1</th>\n",
       "      <td>1</td>\n",
       "      <td>李髌骨</td>\n",
       "    </tr>\n",
       "    <tr>\n",
       "      <th>2</th>\n",
       "      <td>1</td>\n",
       "      <td>韧带</td>\n",
       "    </tr>\n",
       "    <tr>\n",
       "      <th>3</th>\n",
       "      <td>1</td>\n",
       "      <td>撕裂</td>\n",
       "    </tr>\n",
       "    <tr>\n",
       "      <th>4</th>\n",
       "      <td>1</td>\n",
       "      <td>等待</td>\n",
       "    </tr>\n",
       "  </tbody>\n",
       "</table>\n",
       "</div>"
      ],
      "text/plain": [
       "   id word\n",
       "0   1   大卫\n",
       "1   1  李髌骨\n",
       "2   1   韧带\n",
       "3   1   撕裂\n",
       "4   1   等待"
      ]
     },
     "execution_count": 5,
     "metadata": {},
     "output_type": "execute_result"
    }
   ],
   "source": [
    "# 读取数据\n",
    "df = pd.read_csv('tiyu.csv', encoding='gbk')\n",
    "df.head()"
   ]
  },
  {
   "cell_type": "code",
   "execution_count": 6,
   "metadata": {},
   "outputs": [
    {
     "name": "stdout",
     "output_type": "stream",
     "text": [
      "[['大卫', '李髌骨', '韧带', '撕裂', '等待', 'MRI', '篮球', '5月', '21日', 'NBA', '记者', 'MichaelC.Wright', 'RamonaShelburne', '联合', '报道', '消息', '人士', '透露', '马刺', '大卫', '诊断', '膝盖', '韧带', '撕裂', '当地', '时间', '周日', '接受', '核磁共振', '检查', '确认', '伤势', '马刺', '今天', '主场', '勇士', '系列赛', '比分', '落后', '李本场', '比赛', '进攻', '落地', '不幸', '膝盖', '提前', '退出', '比赛', '今年', '季后赛', '李场', '出战', '4.1分', '篮板', '来源', 'Twitter'], ['尤文', '双冠', '剑指', '欧冠', '决赛', '皇马', '北京', '时间', '5月', '21日', '尤文图斯', '主场', '血虐克', '罗托', '提前', '夺得', '意甲', '冠军', '史无前例', '蝉联', '意甲', '5月', '18日', '意大利杯', '实现', '杯赛', '三连冠', '目前', '尤文', '赛季', '展现', '强大', '实力', '目标', '13年', '拜仁', '赛季', '剑指', '尤文', '上一场', '联赛', '比赛', '罗马', '尤文', '意大利杯', '决赛', '前景', '担忧', '斑马军团', '完美', '打消', '拥趸', '疑虑', '顺利', '夺得', '赛季', '冠军', '头衔', '尤文', '处于', '皮亚尼奇', '赫迪拉', '中场', '主力', '无法', '出场', '情况', '完成', '卫冕', '赛季', '尤文', '想起', '拜仁慕尼黑', '当时', '拥有', '强大', '罗贝里', '组合', '穆勒', '拉姆', '施魏', '施泰格', '进攻', '防守', '两端', '强硬', '会师', '欧冠', '决赛', '罗本', '一锤定音', '拜仁', '球迷', '夜晚', '流下', '热泪', '布冯', '能够', '年龄', '耳朵杯', '职业', '生涯', '集齐', '世界杯'], ['花式', '吐饼', '看看', '尼日利亚', '老乡', '北京', '时间', '5月', '21日', '中超', '继续', '展开', '较量', '长春', '亚泰', '坐镇', '经开', '体育场', '迎来', '天津', '泰达', '挑战', '。本场', '比赛', '陷入', '保级', '泥潭', '试图', '上半场', '主场', '作战', '亚泰', '发难', '胡斯蒂', '主罚', '前场', '任意球', '亚泰', '中卫', '孙捷', '力压', '防守', '球员', '头槌', '破门', '主队', '纪录', '下半场', '惠家康', '精彩', '边路', '突破', '助攻', '德耶', '闪电', '扳平', '比分', '双方', '起跑线', '比赛', '双方', '制造', '破门', '机会', '亚泰', '获得', '点球', '良机', '皮球', '直接', '送入', '对方', '门将', '怀中', '未能', '破门', '战罢', '双方', '握手言和', '相比', '平和', '比分', '双方', '外援', '浪费', '进球', '机会', '唏嘘不已', '亚泰', '队长']]\n"
     ]
    }
   ],
   "source": [
    "# 将数据转化成列表\n",
    "\n",
    "cps = []\n",
    "line_sent = []\n",
    "for i in df.groupby(['id']):\n",
    "    seg_list = list(i[1].word)\n",
    "    # print(seg_list)\n",
    "    line_sent.append(seg_list)\n",
    "    seg = ' '.join(seg_list)\n",
    "    cps.append(seg)\n",
    "\n",
    "print(line_sent)"
   ]
  },
  {
   "cell_type": "code",
   "execution_count": 7,
   "metadata": {},
   "outputs": [
    {
     "name": "stdout",
     "output_type": "stream",
     "text": [
      "{'系列赛': 1, '落后': 1, '提前': 1, '接受': 1, '5月': 1, '比赛': 2, '落地': 1, '今年': 1, '联合': 1, 'MichaelC.Wright': 1, '21日': 1, '记者': 1, '确认': 1, '季后赛': 1, '时间': 1, 'RamonaShelburne': 1, '李场': 1, '透露': 1, '篮球': 1, '消息': 1, '篮板': 1, '检查': 1, '今天': 1, '马刺': 2, '膝盖': 2, '李本场': 1, 'Twitter': 1, '核磁共振': 1, '诊断': 1, 'NBA': 1, '撕裂': 2, '李髌骨': 1, '进攻': 1, '当地': 1, '报道': 1, '主场': 1, '周日': 1, '等待': 1, '韧带': 2, '退出': 1, '伤势': 1, '勇士': 1, '不幸': 1, 'MRI': 1, '出战': 1, '大卫': 2, '来源': 1, '比分': 1, '4.1分': 1, '人士': 1}\n",
      "{'目前': 1, '中场': 1, '冠军': 2, '展现': 1, '实现': 1, '赫迪拉': 1, '热泪': 1, '21日': 1, '施泰格': 1, '夺得': 2, '年龄': 1, '布冯': 1, '上一场': 1, '拜仁': 2, '穆勒': 1, '情况': 1, '生涯': 1, '尤文图斯': 1, '职业': 1, '集齐': 1, '耳朵杯': 1, '13年': 1, '前景': 1, '欧冠': 2, '处于': 1, '皮亚尼奇': 1, '担忧': 1, '蝉联': 1, '史无前例': 1, '无法': 1, '夜晚': 1, '赛季': 4, '决赛': 3, '完美': 1, '拥趸': 1, '实力': 1, '拜仁慕尼黑': 1, '双冠': 1, '罗贝里': 1, '完成': 1, '北京': 1, '打消': 1, '疑虑': 1, '斑马军团': 1, '会师': 1, '罗托': 1, '5月': 2, '比赛': 1, '组合': 1, '球迷': 1, '三连冠': 1, '目标': 1, '时间': 1, '联赛': 1, '意大利杯': 2, '顺利': 1, '一锤定音': 1, '强大': 2, '拥有': 1, '流下': 1, '尤文': 6, '拉姆': 1, '想起': 1, '18日': 1, '当时': 1, '卫冕': 1, '头衔': 1, '防守': 1, '施魏': 1, '两端': 1, '血虐克': 1, '世界杯': 1, '主场': 1, '强硬': 1, '罗本': 1, '皇马': 1, '能够': 1, '杯赛': 1, '出场': 1, '提前': 1, '意甲': 2, '主力': 1, '进攻': 1, '剑指': 2, '罗马': 1}\n",
      "{'良机': 1, '平和': 1, '进球': 1, '尼日利亚': 1, '德耶': 1, '作战': 1, '主队': 1, '陷入': 1, '起跑线': 1, '直接': 1, '助攻': 1, '21日': 1, '怀中': 1, '任意球': 1, '发难': 1, '头槌': 1, '吐饼': 1, '体育场': 1, '边路': 1, '未能': 1, '获得': 1, '惠家康': 1, '双方': 4, '。本场': 1, '机会': 2, '中超': 1, '长春': 1, '纪录': 1, '泥潭': 1, '天津': 1, '握手言和': 1, '泰达': 1, '继续': 1, '老乡': 1, '前场': 1, '比分': 2, '较量': 1, '力压': 1, '北京': 1, '保级': 1, '孙捷': 1, '唏嘘不已': 1, '5月': 1, '比赛': 2, '球员': 1, '队长': 1, '制造': 1, '闪电': 1, '破门': 3, '胡斯蒂': 1, '迎来': 1, '时间': 1, '花式': 1, '主罚': 1, '上半场': 1, '浪费': 1, '精彩': 1, '展开': 1, '试图': 1, '对方': 1, '亚泰': 5, '外援': 1, '点球': 1, '看看': 1, '相比': 1, '防守': 1, '门将': 1, '挑战': 1, '主场': 1, '皮球': 1, '中卫': 1, '扳平': 1, '送入': 1, '突破': 1, '战罢': 1, '坐镇': 1, '下半场': 1, '经开': 1}\n"
     ]
    }
   ],
   "source": [
    "# 计算词频\n",
    "\n",
    "import nltk\n",
    "for i in cps:\n",
    "    ii = i.split(' ')\n",
    "    cfd = dict(nltk.FreqDist(ii))\n",
    "    print(cfd)"
   ]
  },
  {
   "cell_type": "code",
   "execution_count": 9,
   "metadata": {},
   "outputs": [
    {
     "name": "stdout",
     "output_type": "stream",
     "text": [
      "Word2Vec(vocab=198, size=300, alpha=0.025)\n",
      "{'系列赛': <gensim.models.keyedvectors.Vocab object at 0x00000204C9D99470>, '进球': <gensim.models.keyedvectors.Vocab object at 0x00000204C9D994A8>, '作战': <gensim.models.keyedvectors.Vocab object at 0x00000204C9D994E0>, '实现': <gensim.models.keyedvectors.Vocab object at 0x00000204C9D99550>, '今年': <gensim.models.keyedvectors.Vocab object at 0x00000204C9D99588>, '陷入': <gensim.models.keyedvectors.Vocab object at 0x00000204C9D995C0>, '助攻': <gensim.models.keyedvectors.Vocab object at 0x00000204C9D995F8>, '当时': <gensim.models.keyedvectors.Vocab object at 0x00000204C9D99630>, '夺得': <gensim.models.keyedvectors.Vocab object at 0x00000204C9D99668>, '透露': <gensim.models.keyedvectors.Vocab object at 0x00000204C9D996A0>, '篮球': <gensim.models.keyedvectors.Vocab object at 0x00000204C9D996D8>, '拜仁': <gensim.models.keyedvectors.Vocab object at 0x00000204C9D99710>, '发难': <gensim.models.keyedvectors.Vocab object at 0x00000204C9D99748>, '消息': <gensim.models.keyedvectors.Vocab object at 0x00000204C9D99780>, '穆勒': <gensim.models.keyedvectors.Vocab object at 0x00000204C9D997B8>, '中场': <gensim.models.keyedvectors.Vocab object at 0x00000204C9D9CC18>, '吐饼': <gensim.models.keyedvectors.Vocab object at 0x00000204C9D99828>, '生涯': <gensim.models.keyedvectors.Vocab object at 0x00000204C9D99860>, '篮板': <gensim.models.keyedvectors.Vocab object at 0x00000204C9D99898>, '泥潭': <gensim.models.keyedvectors.Vocab object at 0x00000204C9D998D0>, '获得': <gensim.models.keyedvectors.Vocab object at 0x00000204C9D99940>, '双方': <gensim.models.keyedvectors.Vocab object at 0x00000204C9D99978>, '。本场': <gensim.models.keyedvectors.Vocab object at 0x00000204C9D999B0>, '机会': <gensim.models.keyedvectors.Vocab object at 0x00000204C9D999E8>, '耳朵杯': <gensim.models.keyedvectors.Vocab object at 0x00000204C9D99A20>, 'NBA': <gensim.models.keyedvectors.Vocab object at 0x00000204C9D99A58>, '长春': <gensim.models.keyedvectors.Vocab object at 0x00000204C9D99A90>, '李髌骨': <gensim.models.keyedvectors.Vocab object at 0x00000204C9D99AC8>, '夜晚': <gensim.models.keyedvectors.Vocab object at 0x00000204C9D9F3C8>, '罗马': <gensim.models.keyedvectors.Vocab object at 0x00000204C9D99B38>, '当地': <gensim.models.keyedvectors.Vocab object at 0x00000204C9D99B70>, '报道': <gensim.models.keyedvectors.Vocab object at 0x00000204C9D99BA8>, '蝉联': <gensim.models.keyedvectors.Vocab object at 0x00000204C9D99BE0>, '无法': <gensim.models.keyedvectors.Vocab object at 0x00000204C9D99C18>, '退出': <gensim.models.keyedvectors.Vocab object at 0x00000204C9D99C50>, '史无前例': <gensim.models.keyedvectors.Vocab object at 0x00000204C9D99C88>, '泰达': <gensim.models.keyedvectors.Vocab object at 0x00000204C9D99CC0>, '决赛': <gensim.models.keyedvectors.Vocab object at 0x00000204C9D9F4A8>, '完美': <gensim.models.keyedvectors.Vocab object at 0x00000204C9D99CF8>, '拥趸': <gensim.models.keyedvectors.Vocab object at 0x00000204C9D99D30>, '前场': <gensim.models.keyedvectors.Vocab object at 0x00000204C9D99518>, '较量': <gensim.models.keyedvectors.Vocab object at 0x00000204C9D99DA0>, '4.1分': <gensim.models.keyedvectors.Vocab object at 0x00000204C9D99DD8>, '双冠': <gensim.models.keyedvectors.Vocab object at 0x00000204C9D99E10>, '浪费': <gensim.models.keyedvectors.Vocab object at 0x00000204C9D9C2E8>, '罗贝里': <gensim.models.keyedvectors.Vocab object at 0x00000204C9D99E80>, '握手言和': <gensim.models.keyedvectors.Vocab object at 0x00000204C9D9F198>, '外援': <gensim.models.keyedvectors.Vocab object at 0x00000204C9D99EF0>, '打消': <gensim.models.keyedvectors.Vocab object at 0x00000204C9D99F28>, '疑虑': <gensim.models.keyedvectors.Vocab object at 0x00000204C9D99F60>, '斑马军团': <gensim.models.keyedvectors.Vocab object at 0x00000204C9D99F98>, '想起': <gensim.models.keyedvectors.Vocab object at 0x00000204C9D9FAC8>, '接受': <gensim.models.keyedvectors.Vocab object at 0x00000204C9D9F0F0>, '5月': <gensim.models.keyedvectors.Vocab object at 0x00000204C9D9C048>, '比赛': <gensim.models.keyedvectors.Vocab object at 0x00000204C9D9C080>, '纪录': <gensim.models.keyedvectors.Vocab object at 0x00000204C9D9C0B8>, '组合': <gensim.models.keyedvectors.Vocab object at 0x00000204C9D9C0F0>, '联合': <gensim.models.keyedvectors.Vocab object at 0x00000204C9D9C128>, '三连冠': <gensim.models.keyedvectors.Vocab object at 0x00000204C9D9C160>, '记者': <gensim.models.keyedvectors.Vocab object at 0x00000204C9D9C198>, '确认': <gensim.models.keyedvectors.Vocab object at 0x00000204C9D9C208>, '时间': <gensim.models.keyedvectors.Vocab object at 0x00000204C9D9C240>, '中卫': <gensim.models.keyedvectors.Vocab object at 0x00000204C9D99E48>, '顺利': <gensim.models.keyedvectors.Vocab object at 0x00000204C9D9C278>, '一锤定音': <gensim.models.keyedvectors.Vocab object at 0x00000204C9D9C2B0>, '拉姆': <gensim.models.keyedvectors.Vocab object at 0x00000204C9D9C320>, '试图': <gensim.models.keyedvectors.Vocab object at 0x00000204C9D9C358>, '主罚': <gensim.models.keyedvectors.Vocab object at 0x00000204C9D9C390>, '上半场': <gensim.models.keyedvectors.Vocab object at 0x00000204C9D9C3C8>, '李本场': <gensim.models.keyedvectors.Vocab object at 0x00000204C9D9C400>, '力压': <gensim.models.keyedvectors.Vocab object at 0x00000204C9D9C438>, '18日': <gensim.models.keyedvectors.Vocab object at 0x00000204C9D9C470>, '施泰格': <gensim.models.keyedvectors.Vocab object at 0x00000204C9D9C4A8>, '诊断': <gensim.models.keyedvectors.Vocab object at 0x00000204C9D9FB70>, '卫冕': <gensim.models.keyedvectors.Vocab object at 0x00000204C9D9C518>, '展开': <gensim.models.keyedvectors.Vocab object at 0x00000204C9D9C550>, '马刺': <gensim.models.keyedvectors.Vocab object at 0x00000204C9D9C588>, '北京': <gensim.models.keyedvectors.Vocab object at 0x00000204C9D99EB8>, '孙捷': <gensim.models.keyedvectors.Vocab object at 0x00000204C9D9C5C0>, '头衔': <gensim.models.keyedvectors.Vocab object at 0x00000204C9D9C5F8>, '撕裂': <gensim.models.keyedvectors.Vocab object at 0x00000204C9D9C630>, '点球': <gensim.models.keyedvectors.Vocab object at 0x00000204C9D9C668>, '施魏': <gensim.models.keyedvectors.Vocab object at 0x00000204C9D9C6A0>, '年龄': <gensim.models.keyedvectors.Vocab object at 0x00000204C9D9CEF0>, '防守': <gensim.models.keyedvectors.Vocab object at 0x00000204C9D9C710>, '德耶': <gensim.models.keyedvectors.Vocab object at 0x00000204C9D9CCC0>, '强大': <gensim.models.keyedvectors.Vocab object at 0x00000204C9D9C780>, '挑战': <gensim.models.keyedvectors.Vocab object at 0x00000204C9D9C7B8>, '周日': <gensim.models.keyedvectors.Vocab object at 0x00000204C9D9C7F0>, '等待': <gensim.models.keyedvectors.Vocab object at 0x00000204C9D9C828>, '季后赛': <gensim.models.keyedvectors.Vocab object at 0x00000204C9D9CE80>, '皮球': <gensim.models.keyedvectors.Vocab object at 0x00000204C9D9F898>, '皇马': <gensim.models.keyedvectors.Vocab object at 0x00000204C9D9C8D0>, '赛季': <gensim.models.keyedvectors.Vocab object at 0x00000204C9D9F438>, '杯赛': <gensim.models.keyedvectors.Vocab object at 0x00000204C9D9C940>, 'MichaelC.Wright': <gensim.models.keyedvectors.Vocab object at 0x00000204C9D9C978>, '两端': <gensim.models.keyedvectors.Vocab object at 0x00000204C9D9C6D8>, '战罢': <gensim.models.keyedvectors.Vocab object at 0x00000204C9D9CA20>, '继续': <gensim.models.keyedvectors.Vocab object at 0x00000204C9D9CA58>, '下半场': <gensim.models.keyedvectors.Vocab object at 0x00000204C9D9C1D0>, '头槌': <gensim.models.keyedvectors.Vocab object at 0x00000204C9D9CAC8>, '人士': <gensim.models.keyedvectors.Vocab object at 0x00000204C9D9CB00>, '经开': <gensim.models.keyedvectors.Vocab object at 0x00000204C9D9CB38>, '目前': <gensim.models.keyedvectors.Vocab object at 0x00000204C9D9CB70>, '良机': <gensim.models.keyedvectors.Vocab object at 0x00000204C9D9CBA8>, '落后': <gensim.models.keyedvectors.Vocab object at 0x00000204C9D9CBE0>, '情况': <gensim.models.keyedvectors.Vocab object at 0x00000204C9D997F0>, '冠军': <gensim.models.keyedvectors.Vocab object at 0x00000204C9D9CC50>, '尼日利亚': <gensim.models.keyedvectors.Vocab object at 0x00000204C9D9CC88>, '血虐克': <gensim.models.keyedvectors.Vocab object at 0x00000204C9D9C748>, '展现': <gensim.models.keyedvectors.Vocab object at 0x00000204C9D9CCF8>, '主队': <gensim.models.keyedvectors.Vocab object at 0x00000204C9D9CD30>, '赫迪拉': <gensim.models.keyedvectors.Vocab object at 0x00000204C9D9CD68>, '今天': <gensim.models.keyedvectors.Vocab object at 0x00000204C9D9CDA0>, '热泪': <gensim.models.keyedvectors.Vocab object at 0x00000204C9D9CDD8>, '直接': <gensim.models.keyedvectors.Vocab object at 0x00000204C9D9CE10>, '21日': <gensim.models.keyedvectors.Vocab object at 0x00000204C9D9CE48>, '强硬': <gensim.models.keyedvectors.Vocab object at 0x00000204C9D9C898>, 'RamonaShelburne': <gensim.models.keyedvectors.Vocab object at 0x00000204C9D9CEB8>, '怀中': <gensim.models.keyedvectors.Vocab object at 0x00000204C9D9C9E8>, '布冯': <gensim.models.keyedvectors.Vocab object at 0x00000204C9D9CF28>, '上一场': <gensim.models.keyedvectors.Vocab object at 0x00000204C9D9CF60>, '检查': <gensim.models.keyedvectors.Vocab object at 0x00000204C9D9CFD0>, '体育场': <gensim.models.keyedvectors.Vocab object at 0x00000204C9D9F048>, '未能': <gensim.models.keyedvectors.Vocab object at 0x00000204C9D9F080>, '惠家康': <gensim.models.keyedvectors.Vocab object at 0x00000204C9D9F0B8>, '罗托': <gensim.models.keyedvectors.Vocab object at 0x00000204C9D99FD0>, '职业': <gensim.models.keyedvectors.Vocab object at 0x00000204C9D9F128>, '集齐': <gensim.models.keyedvectors.Vocab object at 0x00000204C9D9F160>, 'Twitter': <gensim.models.keyedvectors.Vocab object at 0x00000204C9D9F1D0>, '核磁共振': <gensim.models.keyedvectors.Vocab object at 0x00000204C9D9F208>, '落地': <gensim.models.keyedvectors.Vocab object at 0x00000204C9D9F240>, '前景': <gensim.models.keyedvectors.Vocab object at 0x00000204C9D9F278>, '处于': <gensim.models.keyedvectors.Vocab object at 0x00000204C9D9F2B0>, '皮亚尼奇': <gensim.models.keyedvectors.Vocab object at 0x00000204C9D9F2E8>, '担忧': <gensim.models.keyedvectors.Vocab object at 0x00000204C9D9F320>, '任意球': <gensim.models.keyedvectors.Vocab object at 0x00000204C9D9C860>, '边路': <gensim.models.keyedvectors.Vocab object at 0x00000204C9D9F358>, '膝盖': <gensim.models.keyedvectors.Vocab object at 0x00000204C9D9F390>, '欧冠': <gensim.models.keyedvectors.Vocab object at 0x00000204C9D99B00>, '天津': <gensim.models.keyedvectors.Vocab object at 0x00000204C9D9F400>, '能够': <gensim.models.keyedvectors.Vocab object at 0x00000204C9D9C908>, '不幸': <gensim.models.keyedvectors.Vocab object at 0x00000204C9D9F470>, '保级': <gensim.models.keyedvectors.Vocab object at 0x00000204C9D9F6D8>, '13年': <gensim.models.keyedvectors.Vocab object at 0x00000204C9D9FFD0>, '出战': <gensim.models.keyedvectors.Vocab object at 0x00000204C9D9F4E0>, '制造': <gensim.models.keyedvectors.Vocab object at 0x00000204C9D9F518>, '意大利杯': <gensim.models.keyedvectors.Vocab object at 0x00000204C9D9F550>, '大卫': <gensim.models.keyedvectors.Vocab object at 0x00000204C9D9F588>, '实力': <gensim.models.keyedvectors.Vocab object at 0x00000204C9D9F5C0>, '比分': <gensim.models.keyedvectors.Vocab object at 0x00000204C9D9F5F8>, '拜仁慕尼黑': <gensim.models.keyedvectors.Vocab object at 0x00000204C9D9F630>, '看看': <gensim.models.keyedvectors.Vocab object at 0x00000204C9D9F668>, '完成': <gensim.models.keyedvectors.Vocab object at 0x00000204C9D9FE48>, '平和': <gensim.models.keyedvectors.Vocab object at 0x00000204C9D9CF98>, '会师': <gensim.models.keyedvectors.Vocab object at 0x00000204C9D9F710>, '唏嘘不已': <gensim.models.keyedvectors.Vocab object at 0x00000204C9D99908>, '球员': <gensim.models.keyedvectors.Vocab object at 0x00000204C9D9F780>, '队长': <gensim.models.keyedvectors.Vocab object at 0x00000204C9D9F7B8>, '目标': <gensim.models.keyedvectors.Vocab object at 0x00000204C9D9F860>, '球迷': <gensim.models.keyedvectors.Vocab object at 0x00000204C9D9F828>, '闪电': <gensim.models.keyedvectors.Vocab object at 0x00000204C9D9F7F0>, '破门': <gensim.models.keyedvectors.Vocab object at 0x00000204C9D9F8D0>, '联赛': <gensim.models.keyedvectors.Vocab object at 0x00000204C9D9F908>, '李场': <gensim.models.keyedvectors.Vocab object at 0x00000204C9D9F940>, '韧带': <gensim.models.keyedvectors.Vocab object at 0x00000204C9D9F978>, '拥有': <gensim.models.keyedvectors.Vocab object at 0x00000204C9D9F9B0>, '流下': <gensim.models.keyedvectors.Vocab object at 0x00000204C9D9F9E8>, '尤文': <gensim.models.keyedvectors.Vocab object at 0x00000204C9D9FA20>, '花式': <gensim.models.keyedvectors.Vocab object at 0x00000204C9D9FA58>, '相比': <gensim.models.keyedvectors.Vocab object at 0x00000204C9D9FA90>, '来源': <gensim.models.keyedvectors.Vocab object at 0x00000204C9D99D68>, '精彩': <gensim.models.keyedvectors.Vocab object at 0x00000204C9D9FB00>, '胡斯蒂': <gensim.models.keyedvectors.Vocab object at 0x00000204C9D9FB38>, '对方': <gensim.models.keyedvectors.Vocab object at 0x00000204C9D9C4E0>, '亚泰': <gensim.models.keyedvectors.Vocab object at 0x00000204C9D9FBA8>, '扳平': <gensim.models.keyedvectors.Vocab object at 0x00000204C9D9FBE0>, '进攻': <gensim.models.keyedvectors.Vocab object at 0x00000204C9D9FF98>, '起跑线': <gensim.models.keyedvectors.Vocab object at 0x00000204C9D9FC18>, '门将': <gensim.models.keyedvectors.Vocab object at 0x00000204C9D9F748>, '世界杯': <gensim.models.keyedvectors.Vocab object at 0x00000204C9D9FC88>, '主场': <gensim.models.keyedvectors.Vocab object at 0x00000204C9D9FCC0>, '迎来': <gensim.models.keyedvectors.Vocab object at 0x00000204C9D9FCF8>, '罗本': <gensim.models.keyedvectors.Vocab object at 0x00000204C9D9FD30>, '剑指': <gensim.models.keyedvectors.Vocab object at 0x00000204C9D9CA90>, '伤势': <gensim.models.keyedvectors.Vocab object at 0x00000204C9D9FD68>, '勇士': <gensim.models.keyedvectors.Vocab object at 0x00000204C9D9FDA0>, '老乡': <gensim.models.keyedvectors.Vocab object at 0x00000204C9D9FDD8>, 'MRI': <gensim.models.keyedvectors.Vocab object at 0x00000204C9D9FE10>, '出场': <gensim.models.keyedvectors.Vocab object at 0x00000204C9D9F6A0>, '提前': <gensim.models.keyedvectors.Vocab object at 0x00000204C9D9FE80>, '送入': <gensim.models.keyedvectors.Vocab object at 0x00000204C9D9FEB8>, '突破': <gensim.models.keyedvectors.Vocab object at 0x00000204C9D9FEF0>, '主力': <gensim.models.keyedvectors.Vocab object at 0x00000204C9D9FF28>, '坐镇': <gensim.models.keyedvectors.Vocab object at 0x00000204C9D9FF60>, '意甲': <gensim.models.keyedvectors.Vocab object at 0x00000204C9D9FC50>, '尤文图斯': <gensim.models.keyedvectors.Vocab object at 0x00000204C9D9C9B0>, '中超': <gensim.models.keyedvectors.Vocab object at 0x00000204C9DA1048>}\n"
     ]
    }
   ],
   "source": [
    "# 训练模型\n",
    "\n",
    "model = Word2Vec(line_sent,\n",
    "                 size=300,\n",
    "                 window=5,\n",
    "                 min_count=1,\n",
    "                 workers=2)\n",
    "\n",
    "print(model)\n",
    "model.save('./model/word2vec.model')\n",
    "\n",
    "print(model.wv.vocab)"
   ]
  },
  {
   "cell_type": "code",
   "execution_count": 10,
   "metadata": {},
   "outputs": [
    {
     "name": "stdout",
     "output_type": "stream",
     "text": [
      "[ -8.44072259e-04  -2.19657013e-04   1.40140287e-03  -1.22687523e-03\n",
      "   3.72002949e-04  -8.65735870e-04   1.64492603e-03   1.12564641e-03\n",
      "   7.82261894e-04   3.51120980e-04  -2.89129064e-04   1.21628097e-03\n",
      "  -1.13020302e-03  -1.24480750e-03   1.19672413e-03  -4.87670157e-04\n",
      "   5.30643265e-05  -2.62043206e-04  -9.98721342e-04   2.02954005e-04\n",
      "  -4.83051001e-04   1.00196175e-05  -3.37265490e-04   4.71987791e-04\n",
      "   4.82851174e-04   1.38096075e-04   1.20674563e-03   4.75946901e-04\n",
      "   1.01567979e-03   7.03074678e-04  -1.26063230e-03   1.26457866e-03\n",
      "   1.24114827e-04  -1.50775118e-03  -3.14612735e-05   2.03169868e-04\n",
      "  -5.26567455e-04  -2.70985678e-04   6.90861489e-04  -4.19771619e-04\n",
      "   4.82525531e-04   1.61956274e-03   7.43076787e-04   1.08934287e-03\n",
      "   1.06393214e-04   7.68538797e-04   9.53180133e-04  -1.10037602e-03\n",
      "  -2.88276176e-04  -1.42287475e-03   1.63714762e-03  -1.03673188e-03\n",
      "  -1.61947042e-04  -9.61848767e-04   1.39102433e-03   1.52789231e-03\n",
      "  -1.17694761e-03   8.56965431e-04  -2.44948256e-04  -6.99460274e-04\n",
      "  -9.53501672e-04  -9.65823827e-04  -3.00198008e-04  -7.79202674e-04\n",
      "   1.59598072e-03  -8.17706110e-04   1.57635019e-03  -1.00046047e-03\n",
      "   1.48008333e-03  -1.18851184e-03   6.22632448e-04  -4.04434395e-04\n",
      "   8.17225548e-04   8.81188666e-04   1.11391942e-03   1.12175662e-03\n",
      "  -1.17395364e-03   6.84562081e-04  -4.12044086e-04  -9.02783650e-04\n",
      "   1.02800503e-03  -8.56065017e-04   5.51637087e-04   1.03719044e-03\n",
      "  -7.05368991e-04  -3.23078450e-04   6.60973543e-04   1.02554692e-03\n",
      "   1.56126590e-03  -1.85757031e-04   7.54967507e-04   1.21294893e-03\n",
      "  -1.46455842e-03   1.33829808e-03  -1.60790514e-03  -6.78822573e-04\n",
      "  -7.30997199e-05  -3.49326496e-04  -1.82905787e-04  -1.22165796e-03\n",
      "   1.74586748e-04  -1.57271128e-03   1.49072614e-03   1.60142244e-03\n",
      "  -7.42226781e-04   8.06686585e-04  -6.23274944e-04  -1.60998094e-03\n",
      "  -1.65434694e-03   2.01582690e-04  -1.21103798e-03   4.37285671e-05\n",
      "   9.71678121e-04  -1.27193343e-03  -2.73190708e-05   1.39731239e-03\n",
      "  -8.22364993e-04  -1.14386412e-03  -2.87755392e-04  -1.50754652e-03\n",
      "  -1.49743469e-03   4.89581842e-04  -9.75343573e-04  -1.71709253e-04\n",
      "   6.28437789e-04   3.42462823e-04  -2.01043193e-04  -5.84218709e-04\n",
      "   1.28299149e-03  -1.04316312e-03  -6.97624462e-04   2.50305584e-05\n",
      "  -2.63861381e-04  -1.24031701e-03  -1.28777709e-03   1.25813868e-03\n",
      "  -1.43096119e-03   1.36148289e-03  -1.03096117e-03   7.99655681e-05\n",
      "   9.29769230e-05   6.18616061e-04  -1.34389277e-03  -5.53867896e-04\n",
      "  -3.11388518e-04  -4.57771421e-05   9.92978690e-04   9.62099119e-04\n",
      "  -1.26129380e-05   1.27897889e-04  -1.49875227e-03  -1.31408125e-03\n",
      "  -1.52663398e-03   7.62856449e-04  -7.58127717e-04   1.60873006e-03\n",
      "  -1.47842616e-03  -1.03454420e-03  -1.10055262e-03   2.87032395e-04\n",
      "  -1.55780581e-03  -1.08876312e-03  -1.47996552e-03   9.17834870e-04\n",
      "  -3.63591389e-04   8.86299938e-04  -1.52278703e-03   2.80039996e-04\n",
      "  -9.44253581e-04  -1.36949855e-03  -3.03321722e-04   1.02592655e-03\n",
      "   1.61867717e-03  -1.07354089e-03  -3.80609650e-04  -9.82906087e-04\n",
      "  -8.73627083e-04   5.42989932e-04   1.46319426e-03  -7.33928930e-04\n",
      "   6.30163006e-04  -6.59078301e-04  -1.03207573e-03   9.28337395e-04\n",
      "   1.14549557e-03   6.43703912e-04   1.05541036e-03   7.33861176e-04\n",
      "  -6.71029207e-04   1.53706153e-03   4.14826995e-04   1.43171300e-03\n",
      "  -1.69959312e-04  -4.91383136e-04   6.61498052e-04   1.48359872e-03\n",
      "  -1.00609032e-03  -1.12132193e-03  -8.18863395e-04   1.39834895e-03\n",
      "   1.65979276e-04  -5.51319914e-04   8.67784547e-06  -1.07255299e-03\n",
      "  -4.63411241e-04  -1.64563535e-03  -1.38344287e-04   4.96115710e-04\n",
      "  -1.27137254e-03  -1.45098392e-03  -8.67408642e-04   4.70984203e-04\n",
      "   7.59127492e-04  -1.20000434e-04   1.37955556e-03   1.19258929e-03\n",
      "  -9.78091033e-04   1.34442339e-03   2.50028766e-04  -1.33330162e-04\n",
      "   4.18718817e-04  -1.38994481e-03  -1.32059294e-03   6.74386276e-04\n",
      "   2.20188194e-05   8.37209867e-04   8.56608502e-04   4.52013279e-04\n",
      "  -2.14021929e-04   7.41599943e-04  -2.77450308e-04   1.64649868e-03\n",
      "   1.83493481e-04   8.81885760e-04   1.42033037e-03   6.38803001e-04\n",
      "  -9.79656470e-04   2.02555326e-04   9.81243677e-04  -1.07931963e-03\n",
      "   2.04199940e-04  -1.36352121e-03  -1.64421659e-03  -7.51419459e-04\n",
      "  -1.66230416e-03  -9.30272159e-04  -1.26726693e-03  -1.43040705e-03\n",
      "  -1.40288670e-03  -8.57410778e-04   4.28207306e-04   4.42124059e-04\n",
      "  -1.24115217e-03   6.89647975e-04   7.88840116e-04   2.86976632e-04\n",
      "   7.40472868e-04  -6.86539046e-04  -2.73611022e-05   1.44310726e-03\n",
      "  -3.07811279e-04   1.38359226e-03   8.26030911e-04  -8.94043915e-05\n",
      "   2.23859926e-04   9.88846528e-04   1.43322512e-03  -1.19187578e-03\n",
      "  -3.23125831e-04  -1.39423937e-03   1.19024573e-03  -3.80725338e-04\n",
      "  -1.19487883e-03  -1.32564455e-04  -1.55311648e-03  -3.34825483e-04\n",
      "   7.79218739e-04  -1.42420758e-04  -7.90019461e-04  -1.99185917e-04\n",
      "   5.23563125e-04   4.32881119e-04  -1.43736170e-03   2.63444363e-05\n",
      "   9.42593557e-04   2.16665954e-04  -1.22069218e-03   8.12705839e-04\n",
      "   4.52601002e-04  -1.31402339e-03  -1.20637263e-03  -1.07312587e-03\n",
      "   1.03148224e-03   4.49325744e-04  -6.54368137e-04  -9.66700551e-04\n",
      "  -8.53894628e-04  -7.31552194e-04   4.27544059e-04  -2.01164206e-04]\n",
      "[('扳平', 0.15742316842079163), ('尼日利亚', 0.1391560435295105), ('浪费', 0.11512227356433868), ('强硬', 0.11424341797828674), ('5月', 0.09961482882499695), ('中卫', 0.09938433021306992), ('退出', 0.09851592779159546), ('篮板', 0.09693756699562073), ('前景', 0.09663546830415726), ('生涯', 0.0920620709657669)]\n"
     ]
    }
   ],
   "source": [
    "# 导入模型\n",
    "# 可以得到训练的词向量列表， 以及类似于“球员”的这个词的相似词， 但由于训练样本比较少， 训练结果不够准确\n",
    "\n",
    "model = Word2Vec.load('./model/word2vec.model')\n",
    "\n",
    "print(model.wv['球员'])\n",
    "\n",
    "print(model.most_similar('球员'))"
   ]
  },
  {
   "cell_type": "code",
   "execution_count": 11,
   "metadata": {},
   "outputs": [
    {
     "name": "stdout",
     "output_type": "stream",
     "text": [
      "球员\n",
      "[('扳平', 0.15742316842079163), ('尼日利亚', 0.1391560435295105), ('浪费', 0.11512227356433868), ('强硬', 0.11424341797828674), ('5月', 0.09961482882499695), ('中卫', 0.09938433021306992), ('退出', 0.09851592779159546), ('篮板', 0.09693756699562073), ('前景', 0.09663546830415726), ('生涯', 0.0920620709657669)]\n",
      "大卫\n",
      "[('冠军', 0.14681029319763184), ('完美', 0.13137483596801758), ('RamonaShelburne', 0.1213110163807869), ('天津', 0.11225055158138275), ('德耶', 0.11113595962524414), ('拉姆', 0.10850436240434647), ('实力', 0.10826544463634491), ('拜仁慕尼黑', 0.10562527924776077), ('作战', 0.1032315120100975), ('报道', 0.09452956169843674)]\n",
      "篮球\n",
      "[('接受', 0.1713225543498993), ('时间', 0.13162295520305634), ('MichaelC.Wright', 0.12971103191375732), ('勇士', 0.10581104457378387), ('马刺', 0.10351596772670746), ('坐镇', 0.09538932144641876), ('确认', 0.09241874516010284), ('疑虑', 0.09227952361106873), ('顺利', 0.08737178146839142), ('当时', 0.08691791445016861)]\n"
     ]
    }
   ],
   "source": [
    "# 测试结果\n",
    "\n",
    "testwords = ['球员','大卫', '篮球']\n",
    "\n",
    "for i in range(3):\n",
    "\n",
    "    res = model.most_similar(testwords[i])\n",
    "\n",
    "    print(testwords[i])\n",
    "\n",
    "    print(res)"
   ]
  }
 ],
 "metadata": {
  "kernelspec": {
   "display_name": "Python 3",
   "language": "python",
   "name": "python3"
  },
  "language_info": {
   "codemirror_mode": {
    "name": "ipython",
    "version": 3
   },
   "file_extension": ".py",
   "mimetype": "text/x-python",
   "name": "python",
   "nbconvert_exporter": "python",
   "pygments_lexer": "ipython3",
   "version": "3.5.6"
  }
 },
 "nbformat": 4,
 "nbformat_minor": 2
}
