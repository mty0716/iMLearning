{
 "cells": [
  {
   "cell_type": "code",
   "execution_count": 1,
   "metadata": {},
   "outputs": [],
   "source": [
    "import numpy as np\n",
    "import pandas as pd"
   ]
  },
  {
   "cell_type": "code",
   "execution_count": 2,
   "metadata": {},
   "outputs": [],
   "source": [
    "data = pd.read_csv(r\"Iris.csv\")\n",
    "# data\n",
    "# 去掉不需要的ID列\n",
    "data.drop(\"Id\", axis=1, inplace=True)\n",
    "# 删除重复的记录\n",
    "data.drop_duplicates(inplace=True)\n",
    "# Iris-setosa  Iris-versicolor  Iris-virginica\n",
    "data[\"Species\"] = data[\"Species\"].map({\"Iris-versicolor\":0, \"Iris-setosa\": 1, \"Iris-virginica\": 2})\n",
    "# 只选取类别为0与1的鸢尾花数据，进行逻辑回归的二分类。\n",
    "data = data[data[\"Species\"] != 2]\n",
    "# len(data)"
   ]
  },
  {
   "cell_type": "code",
   "execution_count": 3,
   "metadata": {},
   "outputs": [],
   "source": [
    "class LogisticRegression:\n",
    "    \"\"\"使用Python语言来实现逻辑回归算法。\"\"\"\n",
    "    \n",
    "    def __init__(self, alpha, times):\n",
    "        \"\"\"初始化方法。\n",
    "        \n",
    "        Parameters\n",
    "        -----\n",
    "        alpha : float\n",
    "            学习率。\n",
    "            \n",
    "        times : int\n",
    "            迭代次数。\n",
    "        \"\"\"\n",
    "        \n",
    "        self.alpha = alpha\n",
    "        self.times = times\n",
    "        \n",
    "    def sigmoid(self, z):\n",
    "        \"\"\"sigmoid函数的实现\n",
    "        \n",
    "        Parameters\n",
    "        -----\n",
    "        z : float\n",
    "            自变量，值为z = w.T * x\n",
    "            \n",
    "        Returns\n",
    "        -----\n",
    "        p : float, 值为[0, 1]之间。\n",
    "            返回样本属于类别1的概率值，用来作为结果的预测。\n",
    "            当s >= 0.5(z >= 0)时，判定为类别1， 否则判定为类别0。\n",
    "        \"\"\"\n",
    "        return 1.0 / (1.0 + np.exp(-z))\n",
    "    \n",
    "    def fit(self, X, y):\n",
    "        \"\"\"根据提供的训练数据， 对模型进行训练。\n",
    "        \n",
    "        Parameters\n",
    "        -----\n",
    "        X : 类数组类型。形状为：[样本数量， 特征数量]\n",
    "            待训练的样本特征属性。\n",
    "            \n",
    "        y : 类数组类型。形状为：[样本数量]\n",
    "            每个样本的目标值。（标签）\n",
    "        \"\"\"\n",
    "        \n",
    "        X = np.asarray(X)\n",
    "        y = np.asarray(y)\n",
    "        # 创建权重的向量，初始值为0，长度比特征数多1。（多出来的一个是截距）\n",
    "        self.w_ = np.zeros(1 + X.shape[1])\n",
    "        # 创建损失列表，用来保存每次迭代后的损失值。\n",
    "        self.loss_ = []\n",
    "        \n",
    "        for i in range(self.times):\n",
    "            z = np.dot(X, self.w_[1:]) + self.w_[0]\n",
    "            # 计算概率值(结果判定为1的概率值)\n",
    "            p = self.sigmoid(z)\n",
    "            # 根据逻辑回归的代价函数（目标函数），计算损失值。\n",
    "            # 逻辑回归的代价函数（目标函数）:\n",
    "            # J(w) = -sum(yi * log(s(zi)) + (1 - yi) * log(1 - s(zi))) [i从1到n，n为样本的数量]\n",
    "            cost = -np.sum(y * np.log(p)+ (1 - y) * np.log(1 - p))\n",
    "            self.loss_.append(cost)\n",
    "            \n",
    "            # 调整权重值， 根据公式：调整为：  权重（j列） = 权重（j列） + 学习率 * sum（ (y - s(z)) * x(j)）\n",
    "            self.w_[0] += self.alpha * np.sum(y - p)\n",
    "            self.w_[1:] += self.alpha * np.dot(X.T, y - p)\n",
    "            \n",
    "    def predict_proba(self, X):\n",
    "        \"\"\"根据参数传递的样本，对样本数据进行预测。\n",
    "        \n",
    "        Parameters\n",
    "        -----\n",
    "        X : 类数组类型。 形状为[样本数量， 特征数量]\n",
    "            待测试的样本特征（属性）\n",
    "            \n",
    "        Returns\n",
    "        -----\n",
    "        result : 数组类型\n",
    "            预测的结果（概率值）\n",
    "        \"\"\"\n",
    "        \n",
    "        X = np.asarray(X)\n",
    "        z = np.dot(X, self.w_[1:]) + self.w_[0]\n",
    "        p = self.sigmoid(z)\n",
    "        # 将预测结果变成二维数组（结构）。便于后续的拼接。\n",
    "        p = p.reshape(-1, 1)\n",
    "        # 将两个数组进行拼接。方向为横向拼接。\n",
    "        return np.concatenate([1 - p, p], axis=1)\n",
    "    \n",
    "    def predict(self, X):\n",
    "        \"\"\"根据参数传递的样本，对样本数据进行预测。\n",
    "        \n",
    "        Parameters\n",
    "        -----\n",
    "        X : 类数组类型。 [样本数量， 特征数量]\n",
    "            待测试的样本特征（属性）\n",
    "            \n",
    "        Returns\n",
    "        -----\n",
    "        result : 数组类型。\n",
    "            预测的结果（分类值）\n",
    "        \n",
    "        \"\"\"\n",
    "        return np.argmax(self.predict_proba(X), axis=1)"
   ]
  },
  {
   "cell_type": "code",
   "execution_count": 7,
   "metadata": {},
   "outputs": [
    {
     "data": {
      "text/plain": [
       "1.0"
      ]
     },
     "execution_count": 7,
     "metadata": {},
     "output_type": "execute_result"
    }
   ],
   "source": [
    "t1 = data[data[\"Species\"] == 0]\n",
    "t2 = data[data[\"Species\"] == 1]\n",
    "t1 = t1.sample(len(t1), random_state=0)\n",
    "t2 = t2.sample(len(t2), random_state=0)\n",
    "\n",
    "train_X = pd.concat([t1.iloc[:40, :-1], t2.iloc[:40, :-1]], axis=0)\n",
    "train_y = pd.concat([t1.iloc[:40, -1], t2.iloc[:40, -1]], axis=0)\n",
    "test_X = pd.concat([t1.iloc[40:, :-1], t2.iloc[40:, :-1]], axis=0)\n",
    "test_y = pd.concat([t1.iloc[40:, -1], t2.iloc[40:, -1]], axis=0)\n",
    "\n",
    "# 鸢尾花的特征列都在同一个数量级，我们这里可以不用进行标准化处理。\n",
    "lr = LogisticRegression(alpha=0.01, times=20)\n",
    "lr.fit(train_X, train_y)\n",
    "# 预测概率值\n",
    "# lr.predict_proba(test_X)\n",
    "result = lr.predict(test_X)\n",
    "# 计算准确性\n",
    "# np.sum(result == test_y)\n",
    "np.sum((result == test_y) / len(test_y))"
   ]
  },
  {
   "cell_type": "code",
   "execution_count": 8,
   "metadata": {},
   "outputs": [],
   "source": [
    "import matplotlib as mpl\n",
    "import matplotlib.pyplot as plt\n",
    "mpl.rcParams[\"font.family\"] = \"SimHei\"\n",
    "mpl.rcParams[\"axes.unicode_minus\"] = False"
   ]
  },
  {
   "cell_type": "code",
   "execution_count": 9,
   "metadata": {},
   "outputs": [
    {
     "data": {
      "image/png": "[encoded data removed]",
      "text/plain": [
       "<matplotlib.figure.Figure at 0x9d97f98>"
      ]
     },
     "metadata": {},
     "output_type": "display_data"
    }
   ],
   "source": [
    "# 绘制预测值\n",
    "plt.plot(result, \"ro\", ms=15, label=\"预测值\")\n",
    "# 绘制真实值\n",
    "plt.plot(test_y.values, \"go\", label=\"真实值\")\n",
    "plt.title(\"逻辑回归\")\n",
    "plt.xlabel(\"样本序号\")\n",
    "plt.ylabel(\"类别\")\n",
    "plt.legend()\n",
    "plt.show()"
   ]
  },
  {
   "cell_type": "code",
   "execution_count": 10,
   "metadata": {},
   "outputs": [
    {
     "data": {
      "text/plain": [
       "[<matplotlib.lines.Line2D at 0x9bc0ac8>]"
      ]
     },
     "execution_count": 10,
     "metadata": {},
     "output_type": "execute_result"
    },
    {
     "data": {
      "image/png": "[encoded data removed]",
      "text/plain": [
       "<matplotlib.figure.Figure at 0x877e1d0>"
      ]
     },
     "metadata": {},
     "output_type": "display_data"
    }
   ],
   "source": [
    "# 绘制目标函数的损失值\n",
    "plt.plot(range(1, lr.times + 1), lr.loss_, \"go-\")"
   ]
  }
 ],
 "metadata": {
  "kernelspec": {
   "display_name": "Python 3",
   "language": "python",
   "name": "python3"
  },
  "language_info": {
   "codemirror_mode": {
    "name": "ipython",
    "version": 3
   },
   "file_extension": ".py",
   "mimetype": "text/x-python",
   "name": "python",
   "nbconvert_exporter": "python",
   "pygments_lexer": "ipython3",
   "version": "3.6.4"
  }
 },
 "nbformat": 4,
 "nbformat_minor": 2
}
