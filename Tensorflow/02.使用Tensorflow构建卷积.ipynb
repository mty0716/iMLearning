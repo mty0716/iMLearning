{
 "cells": [
  {
   "cell_type": "code",
   "execution_count": 6,
   "metadata": {
    "collapsed": true
   },
   "outputs": [],
   "source": [
    "# Tensorflow执行卷积操作时，是以图形的形式创建所有操作\n",
    "import tensorflow as tf"
   ]
  },
  {
   "cell_type": "code",
   "execution_count": 7,
   "metadata": {},
   "outputs": [],
   "source": [
    "# 设置输入图层和卷积内核\n",
    "# 图层和内核数值都由随机数产生，而随机数后面的参数设置了其形状\n",
    "# input后面[1,3,3,1]表示[批量大小,宽度,高度,通道数目]\n",
    "# filter后面[2,2,1,1]表示[宽度,高度,通道,滤波器数目]\n",
    "input = tf.Variable(tf.random_normal([1,3,3,1]))\n",
    "filter = tf.Variable(tf.random_normal([2,2,1,1]))\n",
    "op = tf.nn.conv2d(input, filter, strides=[1, 1, 1, 1], padding='VALID')"
   ]
  },
  {
   "cell_type": "code",
   "execution_count": 8,
   "metadata": {},
   "outputs": [
    {
     "name": "stdout",
     "output_type": "stream",
     "text": [
      "Input \n",
      "\n",
      "[[[[ 1.37472641]\n",
      "   [-0.72989047]\n",
      "   [-1.29288471]]\n",
      "\n",
      "  [[-1.29896688]\n",
      "   [ 0.27248353]\n",
      "   [-1.20405543]]\n",
      "\n",
      "  [[ 1.5457623 ]\n",
      "   [ 2.18607569]\n",
      "   [ 2.13252258]]]] \n",
      "\n",
      "Filter/Kernel \n",
      "\n",
      "[[[[ 1.67247021]]\n",
      "\n",
      "  [[ 0.21511881]]]\n",
      "\n",
      "\n",
      " [[[ 1.24957895]]\n",
      "\n",
      "  [[-0.39390999]]]] \n",
      "\n",
      "Result/Feature Map with VALID positions \n",
      "\n",
      "[[[[ 0.41168022]\n",
      "   [-0.68406475]]\n",
      "\n",
      "  [[-1.043432  ]\n",
      "   [ 2.08835793]]]]\n"
     ]
    }
   ],
   "source": [
    "# 查看卷积结果\n",
    "# 原理与二维卷积相同\n",
    "init = tf.global_variables_initializer()\n",
    "with tf.Session() as sess:\n",
    "    sess.run(init)\n",
    "\n",
    "    print(\"Input \\n\")\n",
    "    print('{0} \\n'.format(input.eval()))\n",
    "    print(\"Filter/Kernel \\n\")\n",
    "    print('{0} \\n'.format(filter.eval()))\n",
    "    print(\"Result/Feature Map with VALID positions \\n\")\n",
    "    result = sess.run(op)\n",
    "print(result)\n",
    "sess.close()"
   ]
  }
 ],
 "metadata": {
  "kernelspec": {
   "display_name": "Python 3",
   "language": "python",
   "name": "python3"
  },
  "language_info": {
   "codemirror_mode": {
    "name": "ipython",
    "version": 3
   },
   "file_extension": ".py",
   "mimetype": "text/x-python",
   "name": "python",
   "nbconvert_exporter": "python",
   "pygments_lexer": "ipython3",
   "version": "3.5.6"
  }
 },
 "nbformat": 4,
 "nbformat_minor": 2
}
