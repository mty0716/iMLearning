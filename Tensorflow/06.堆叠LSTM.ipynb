{
 "cells": [
  {
   "cell_type": "code",
   "execution_count": 1,
   "metadata": {
    "collapsed": true
   },
   "outputs": [],
   "source": [
    "# 带堆叠LSTM的RNN\n",
    "\n",
    "import numpy as np\n",
    "import tensorflow as tf"
   ]
  },
  {
   "cell_type": "code",
   "execution_count": 2,
   "metadata": {
    "collapsed": true
   },
   "outputs": [],
   "source": [
    "# 一个2层LSTM，第一层的输出将成为第二层的输入\n",
    "# 定义输出尺寸为4，输入尺寸为6，堆叠2层\n",
    "\n",
    "sess = tf.Session()\n",
    "LSTM_CELL_SIZE = 4  # 输出尺寸（维度），与单元格中的隐藏尺寸相同 \n",
    "input_dim = 6        \n",
    "num_layers = 2"
   ]
  },
  {
   "cell_type": "code",
   "execution_count": 3,
   "metadata": {
    "collapsed": true
   },
   "outputs": [],
   "source": [
    "# 创建堆叠的LSTM单元\n",
    "\n",
    "cells = []\n",
    "for _ in range(num_layers):\n",
    "    cell = tf.contrib.rnn.LSTMCell(LSTM_CELL_SIZE)\n",
    "    cells.append(cell)\n",
    "stacked_lstm = tf.contrib.rnn.MultiRNNCell(cells)"
   ]
  },
  {
   "cell_type": "code",
   "execution_count": 4,
   "metadata": {
    "collapsed": true
   },
   "outputs": [],
   "source": [
    "# 创建RNN与输入\n",
    "\n",
    "data = tf.placeholder(tf.float32, [None, None, input_dim])\n",
    "output, state = tf.nn.dynamic_rnn(cell, data, dtype=tf.float32)\n",
    "\n",
    "sample_input = [[[1,2,3,4,3,2], [1,2,1,1,1,2],[1,2,2,2,2,2]],\n",
    "                [[1,2,3,4,3,2],[3,2,2,1,1,2],[0,0,0,0,3,2]]]"
   ]
  },
  {
   "cell_type": "code",
   "execution_count": 5,
   "metadata": {},
   "outputs": [
    {
     "data": {
      "text/plain": [
       "array([[[ 0.30404788, -0.19330664,  0.26900253,  0.07364822],\n",
       "        [ 0.19555978, -0.34652418,  0.29335827,  0.05548206],\n",
       "        [ 0.35402679, -0.3372471 ,  0.43300006,  0.09305513]],\n",
       "\n",
       "       [[ 0.30404788, -0.19330664,  0.26900253,  0.07364822],\n",
       "        [ 0.21717273, -0.50758404,  0.44720504,  0.22796695],\n",
       "        [ 0.28218824,  0.02080385,  0.60912257,  0.21059301]]], dtype=float32)"
      ]
     },
     "execution_count": 5,
     "metadata": {},
     "output_type": "execute_result"
    }
   ],
   "source": [
    "# 将输入发送到网络\n",
    "sess.run(tf.global_variables_initializer())\n",
    "sess.run(output, feed_dict={data: sample_input})"
   ]
  }
 ],
 "metadata": {
  "kernelspec": {
   "display_name": "Python 3",
   "language": "python",
   "name": "python3"
  },
  "language_info": {
   "codemirror_mode": {
    "name": "ipython",
    "version": 3
   },
   "file_extension": ".py",
   "mimetype": "text/x-python",
   "name": "python",
   "nbconvert_exporter": "python",
   "pygments_lexer": "ipython3",
   "version": "3.5.6"
  }
 },
 "nbformat": 4,
 "nbformat_minor": 2
}
