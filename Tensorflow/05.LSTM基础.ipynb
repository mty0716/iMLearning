{
 "cells": [
  {
   "cell_type": "code",
   "execution_count": 1,
   "metadata": {
    "collapsed": true
   },
   "outputs": [],
   "source": [
    "# 长短期记忆 LSTM: Long Short Term Memory \n",
    "\n",
    "import numpy as np\n",
    "import tensorflow as tf\n",
    "sess = tf.Session()"
   ]
  },
  {
   "cell_type": "code",
   "execution_count": 2,
   "metadata": {},
   "outputs": [
    {
     "data": {
      "text/plain": [
       "(<tf.Tensor 'zeros:0' shape=(2, 4) dtype=float32>,\n",
       " <tf.Tensor 'zeros:0' shape=(2, 4) dtype=float32>)"
      ]
     },
     "execution_count": 2,
     "metadata": {},
     "output_type": "execute_result"
    }
   ],
   "source": [
    "# 创建LSTM单元\n",
    "# 必须将两个元素传递给LSTM，即prv_output 和 prv_state，称为h和c\n",
    "# 初始化一个状态向量，state是一个包含2个元素的元组，每个元素的大小为[2 x 4]\n",
    "\n",
    "LSTM_CELL_SIZE = 4  # 输出尺寸（维度），与单元格中的隐藏尺寸相同\n",
    "\n",
    "lstm_cell = tf.contrib.rnn.BasicLSTMCell(LSTM_CELL_SIZE, state_is_tuple=True)\n",
    "state = (tf.zeros([2,LSTM_CELL_SIZE]),)*2\n",
    "state"
   ]
  },
  {
   "cell_type": "code",
   "execution_count": 3,
   "metadata": {},
   "outputs": [
    {
     "name": "stdout",
     "output_type": "stream",
     "text": [
      "[[ 1.  2.  3.  4.  3.  2.]\n",
      " [ 3.  2.  2.  2.  2.  2.]]\n"
     ]
    }
   ],
   "source": [
    "# 定义一个示例输入\n",
    "\n",
    "sample_input = tf.constant([[1,2,3,4,3,2],[3,2,2,2,2,2]],dtype=tf.float32)\n",
    "print (sess.run(sample_input))"
   ]
  },
  {
   "cell_type": "code",
   "execution_count": 4,
   "metadata": {},
   "outputs": [
    {
     "name": "stdout",
     "output_type": "stream",
     "text": [
      "LSTMStateTuple(c=array([[-0.94938338, -0.4257777 , -0.30852166, -0.94594544],\n",
      "       [-0.90349114, -0.45728433,  0.72497207, -0.62154537]], dtype=float32), h=array([[-0.2719211 , -0.0916032 , -0.23696375, -0.69655734],\n",
      "       [-0.51500958, -0.14747022,  0.38153684, -0.45880947]], dtype=float32))\n"
     ]
    }
   ],
   "source": [
    "# 将输入传递给lstm_cell，并检查状态更新\n",
    "# 通过lstm_cell得到了新的状态state_new\n",
    "\n",
    "with tf.variable_scope(\"LSTM_sample1\"):\n",
    "    output, state_new = lstm_cell(sample_input, state)\n",
    "sess.run(tf.global_variables_initializer())\n",
    "print (sess.run(state_new))"
   ]
  }
 ],
 "metadata": {
  "kernelspec": {
   "display_name": "Python 3",
   "language": "python",
   "name": "python3"
  },
  "language_info": {
   "codemirror_mode": {
    "name": "ipython",
    "version": 3
   },
   "file_extension": ".py",
   "mimetype": "text/x-python",
   "name": "python",
   "nbconvert_exporter": "python",
   "pygments_lexer": "ipython3",
   "version": "3.5.6"
  }
 },
 "nbformat": 4,
 "nbformat_minor": 2
}
