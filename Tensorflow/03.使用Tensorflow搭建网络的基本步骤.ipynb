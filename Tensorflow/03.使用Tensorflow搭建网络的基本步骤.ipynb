{
 "cells": [
  {
   "cell_type": "code",
   "execution_count": null,
   "metadata": {
    "collapsed": true
   },
   "outputs": [],
   "source": [
    "import tensorflow as tf\n",
    "\n",
    "# 初始化变量和模型参数，定义训练闭环中的运算\n",
    "def inference(X):\n",
    "    pass\n",
    "    # 计算推断模型在数据X上的输出，并返回结果\n",
    "    \n",
    "def loss(X,Y):\n",
    "    pass\n",
    "    # 依据训练数据X及其期望输出Y计算损失\n",
    "    \n",
    "def inputs():\n",
    "    pass\n",
    "    # 读取或生成训练数据X及其期望输出Y\n",
    "    \n",
    "def train(total_loss):\n",
    "    pass\n",
    "    # 依据计算的总损失训练或调整模型参数\n",
    "    \n",
    "def evaluate(sess,X,Y):\n",
    "    pass\n",
    "    # 对训练得到的模型进行评估\n",
    "\n",
    "# 在一个会话对象中启动数据流图，搭建流程\n",
    "with tf.Session() as sess:\n",
    "    \n",
    "    tf.initialize_all_variables().run()\n",
    "    \n",
    "    X,Y = inputs()\n",
    "    \n",
    "    total_loss = loss(X,Y)\n",
    "    train_op = train(total_loss)\n",
    "    \n",
    "    coord = tf.train.Coordinator()\n",
    "    threads = th.train.start_queue_runners(sess=sess,coord=coord)\n",
    "    \n",
    "    # 实际的训练迭代次数\n",
    "    teaining_steps = 1000\n",
    "    for step in range(teaining_steps):\n",
    "        sess.run([train_op])\n",
    "        # 出于调试和学习的目的，查看损失在训练过程中递减情况\n",
    "        if step % 10 ==0:\n",
    "            print(sess.run([total_loss]))\n",
    "    evaluate(sess,X,Y)\n",
    "    \n",
    "    coord.request_stop()\n",
    "    coord.join(threads)\n",
    "    sess.close()"
   ]
  }
 ],
 "metadata": {
  "kernelspec": {
   "display_name": "Python 3",
   "language": "python",
   "name": "python3"
  },
  "language_info": {
   "codemirror_mode": {
    "name": "ipython",
    "version": 3
   },
   "file_extension": ".py",
   "mimetype": "text/x-python",
   "name": "python",
   "nbconvert_exporter": "python",
   "pygments_lexer": "ipython3",
   "version": "3.5.6"
  }
 },
 "nbformat": 4,
 "nbformat_minor": 2
}
