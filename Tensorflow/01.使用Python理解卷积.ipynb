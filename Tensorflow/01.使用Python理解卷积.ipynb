{
 "cells": [
  {
   "cell_type": "code",
   "execution_count": 1,
   "metadata": {
    "collapsed": true
   },
   "outputs": [],
   "source": [
    "import numpy as np"
   ]
  },
  {
   "cell_type": "code",
   "execution_count": 5,
   "metadata": {},
   "outputs": [
    {
     "data": {
      "text/plain": [
       "array([ 6, 14, 34, 34,  8])"
      ]
     },
     "execution_count": 5,
     "metadata": {},
     "output_type": "execute_result"
    }
   ],
   "source": [
    "# 理解简单的卷积\n",
    "x = [6, 2]\n",
    "h = [1, 2, 5, 4]\n",
    "y = np.convolve(x, h)\n",
    "y\n",
    "\n",
    "# x作为卷积内核，以滑动窗口的形式覆盖h,默认会将内核倒置\n",
    "# 卷积过程如下：\n",
    "# 6 = 0x2 + 1x6  #其中0是h左侧填充的数字\n",
    "# 14 = 1x2 + 2x6\n",
    "# 34 = 2x2 + 5x6\n",
    "# 34 = 2x5 + 4x6\n",
    "# 8 = 4x2 + 0x6"
   ]
  },
  {
   "cell_type": "code",
   "execution_count": 9,
   "metadata": {},
   "outputs": [
    {
     "name": "stdout",
     "output_type": "stream",
     "text": [
      "[ 6 14 34 34  8]\n",
      "[ 6 14 34 34]\n",
      "[14 34 34]\n"
     ]
    }
   ],
   "source": [
    "# 不同形式的卷积\n",
    "x = [6, 2]\n",
    "h = [1, 2, 5, 4]\n",
    "\n",
    "# full是默认的两侧全部填充0\n",
    "print(np.convolve(x, h, 'full'))\n",
    "# same只在左侧填充0\n",
    "print(np.convolve(x, h, 'same'))\n",
    "# valid则不填充\n",
    "print(np.convolve(x, h, 'valid'))"
   ]
  },
  {
   "cell_type": "code",
   "execution_count": 10,
   "metadata": {},
   "outputs": [
    {
     "name": "stdout",
     "output_type": "stream",
     "text": [
      "[[-2 -2  4]\n",
      " [-7  3 34]\n",
      " [22 77 66]]\n",
      "[[-2 -2]\n",
      " [-7  3]]\n",
      "[[3]]\n"
     ]
    }
   ],
   "source": [
    "# 使用scipy理解二维卷积\n",
    "from scipy import signal as sg\n",
    "\n",
    "# g为卷积内核，默认会将内核旋转180度再进行卷积\n",
    "I = [[2,4], [11, 22]]\n",
    "g = [[-1, 1], [2, 3]]\n",
    "\n",
    "# full为全部填充0\n",
    "# 第一行-2由[[3,2],[1,-1]]矩阵点乘[[0,0],[0,2]]矩阵再求和得到\n",
    "# 第二个-2由[[3,2],[1,-1]]矩阵点乘[[0,0],[2,4]]得到\n",
    "# 其余类推\n",
    "print(sg.convolve(I, g, 'full'))\n",
    "# same为左侧和上侧填充0\n",
    "print(sg.convolve(I, g, 'same'))\n",
    "# valid为全不填充\n",
    "print(sg.convolve(I, g, 'valid'))"
   ]
  }
 ],
 "metadata": {
  "kernelspec": {
   "display_name": "Python 3",
   "language": "python",
   "name": "python3"
  },
  "language_info": {
   "codemirror_mode": {
    "name": "ipython",
    "version": 3
   },
   "file_extension": ".py",
   "mimetype": "text/x-python",
   "name": "python",
   "nbconvert_exporter": "python",
   "pygments_lexer": "ipython3",
   "version": "3.5.6"
  }
 },
 "nbformat": 4,
 "nbformat_minor": 2
}
