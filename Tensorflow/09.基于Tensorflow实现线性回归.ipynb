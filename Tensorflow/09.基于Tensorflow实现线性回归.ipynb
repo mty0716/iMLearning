{
 "cells": [
  {
   "cell_type": "code",
   "execution_count": 1,
   "metadata": {
    "collapsed": true
   },
   "outputs": [],
   "source": [
    "import numpy as np\n",
    "import tensorflow as tf\n",
    "\n",
    "import matplotlib.patches as mpatches\n",
    "\n",
    "import matplotlib.pyplot as plt\n",
    "\n",
    "%matplotlib inline\n",
    "\n",
    "plt.rcParams['figure.figsize'] = (10, 6)"
   ]
  },
  {
   "cell_type": "code",
   "execution_count": 2,
   "metadata": {
    "collapsed": true
   },
   "outputs": [],
   "source": [
    "# 通过生成随机数来定义一个线性关系\n",
    "# 义了 Y=3X+2 的线性关系。为了模仿实际数据，我们在Y值上加入了高斯噪声\n",
    "\n",
    "x_data = np.random.rand(100).astype(np.float32)\n",
    "y_data = x_data * 3 + 2\n",
    "y_data = np.vectorize(lambda y: y + np.random.normal(loc=0.0, scale=0.1))(y_data)"
   ]
  },
  {
   "cell_type": "code",
   "execution_count": 3,
   "metadata": {
    "collapsed": true
   },
   "outputs": [],
   "source": [
    "# 通过TensorFlow来线性拟合以上的数据\n",
    "# a、b分别代表线性拟合Y=AX+B中的的A和B。其后的1.0和0.2位初始值\n",
    "\n",
    "a = tf.Variable(1.0)\n",
    "b = tf.Variable(0.2)\n",
    "y = a * x_data + b"
   ]
  },
  {
   "cell_type": "code",
   "execution_count": 4,
   "metadata": {
    "collapsed": true
   },
   "outputs": [],
   "source": [
    "# 定义损失函数\n",
    "# 使用均方误差作为损失值\n",
    "\n",
    "loss = tf.reduce_mean(tf.square(y - y_data))"
   ]
  },
  {
   "cell_type": "code",
   "execution_count": 5,
   "metadata": {
    "collapsed": true
   },
   "outputs": [],
   "source": [
    "# 选择训练的优化器，并定义学习率\n",
    "# 通过优化器，使得损失函数一步一步减小，最后得到拟合效果\n",
    "\n",
    "optimizer = tf.train.GradientDescentOptimizer(0.5)\n",
    "train = optimizer.minimize(loss)"
   ]
  },
  {
   "cell_type": "code",
   "execution_count": 6,
   "metadata": {
    "collapsed": true
   },
   "outputs": [],
   "source": [
    "# TensorFlow是基于数据流图(data flow graphs)技术来进行数值计算\n",
    "# 在每个计算开始时，需要打开一个会话\n",
    "# 会话是在TensorFlow中创建图形的上下文\n",
    "# 会话开始时，需要初始化变量\n",
    "\n",
    "init = tf.global_variables_initializer()\n",
    "sess = tf.Session()\n",
    "sess.run(init)"
   ]
  },
  {
   "cell_type": "code",
   "execution_count": 8,
   "metadata": {},
   "outputs": [
    {
     "name": "stdout",
     "output_type": "stream",
     "text": [
      "0 [3.0067091, 1.9997404]\n",
      "10 [3.0071883, 1.9994631]\n",
      "20 [3.0074379, 1.9993187]\n",
      "30 [3.0075684, 1.9992433]\n",
      "40 [3.0076361, 1.999204]\n",
      "50 [3.0076714, 1.9991837]\n",
      "60 [3.0076897, 1.999173]\n",
      "70 [3.0076993, 1.9991674]\n",
      "80 [3.0077043, 1.9991645]\n",
      "90 [3.0077069, 1.999163]\n"
     ]
    }
   ],
   "source": [
    "# 训练模型\n",
    "# 结果输出了在每10次迭代后，a、b的拟合值，它们慢慢的接近最开始定义的值\n",
    "\n",
    "train_data = []\n",
    "for step in range(100):\n",
    "    evals = sess.run([train,a,b])[1:]\n",
    "    if step % 10 == 0:\n",
    "        print(step, evals)\n",
    "        train_data.append(evals)"
   ]
  },
  {
   "cell_type": "code",
   "execution_count": 9,
   "metadata": {},
   "outputs": [
    {
     "data": {
      "image/png": "[encoded data removed]",
      "text/plain": [
       "<matplotlib.figure.Figure at 0x25fd091d630>"
      ]
     },
     "metadata": {},
     "output_type": "display_data"
    },
    {
     "name": "stdout",
     "output_type": "stream",
     "text": [
      "[3.0077083, 1.9991622]\n"
     ]
    }
   ],
   "source": [
    "# 绘制拟合过程图\n",
    "\n",
    "converter = plt.colors\n",
    "for f in train_data:\n",
    "    [a, b] = f\n",
    "    f_y = np.vectorize(lambda x: a*x + b)(x_data)\n",
    "    line = plt.plot(x_data, f_y)\n",
    "    plt.setp(line, color=(1,1,0))\n",
    "plt.plot(x_data, y_data, 'ro')\n",
    "fy = x_data*evals[0]+evals[1]\n",
    "line = plt.plot(x_data, f_y)\n",
    "plt.setp(line, color=(0,0,1))\n",
    "f_line = mpatches.Patch(color='red', label='Data Points')\n",
    "plt.legend(handles=[f_line])\n",
    "plt.show()\n",
    "print(evals)"
   ]
  }
 ],
 "metadata": {
  "kernelspec": {
   "display_name": "Python 3",
   "language": "python",
   "name": "python3"
  },
  "language_info": {
   "codemirror_mode": {
    "name": "ipython",
    "version": 3
   },
   "file_extension": ".py",
   "mimetype": "text/x-python",
   "name": "python",
   "nbconvert_exporter": "python",
   "pygments_lexer": "ipython3",
   "version": "3.5.6"
  }
 },
 "nbformat": 4,
 "nbformat_minor": 2
}
