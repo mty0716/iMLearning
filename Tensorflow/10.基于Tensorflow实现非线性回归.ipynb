{
 "cells": [
  {
   "cell_type": "code",
   "execution_count": 1,
   "metadata": {
    "collapsed": true
   },
   "outputs": [],
   "source": [
    "import numpy as np\n",
    "import tensorflow as tf\n",
    "import matplotlib.pyplot as plt\n",
    " \n",
    "%matplotlib inline "
   ]
  },
  {
   "cell_type": "code",
   "execution_count": 2,
   "metadata": {},
   "outputs": [
    {
     "data": {
      "image/png": "[encoded data removed]",
      "text/plain": [
       "<matplotlib.figure.Figure at 0x1e8a88695f8>"
      ]
     },
     "metadata": {},
     "output_type": "display_data"
    }
   ],
   "source": [
    "# 构建模拟数据\n",
    "# 模拟数据由非线性函数加噪声得到\n",
    "\n",
    "np.random.seed(1)\n",
    "x_data = np.arange(-2.0, 3.0, 0.05)\n",
    "\n",
    "beta0=2\n",
    "beta1=-1\n",
    "beta2=-2   # 这表示二次项\n",
    "beta3=1  # 这表示三次项\n",
    "\n",
    "y_data = beta0 + beta1*x_data + beta2*(x_data**2)+ beta3*(x_data**3)\\\n",
    "    + np.random.normal(0,3,len(x_data))\n",
    "\n",
    "plt.plot(x_data,y_data,'o')\n",
    "plt.ylabel('Dependent Variable')\n",
    "plt.xlabel('Indepdendent Variable')\n",
    "plt.show()"
   ]
  },
  {
   "cell_type": "code",
   "execution_count": 3,
   "metadata": {
    "collapsed": true
   },
   "outputs": [],
   "source": [
    "# 在TensorFlow中建立占位符、变量和表达式\n",
    "# 其中beta_0到beta_3为拟合参数的初始值，您可以随意更改\n",
    "\n",
    "#输入模型，即'X'变量\n",
    "\n",
    "#注意，占位符意味着当我们调用tensorflow范式时我们已经传递了这个参数\n",
    "\n",
    "x = tf.placeholder(tf.float32, shape=(x_data.size))\n",
    "\n",
    "y = tf.placeholder(tf.float32,shape=(y_data.size))\n",
    "\n",
    "# tf.Variable调用在内存中创建一个可更新的副本并高效地更新\n",
    "\n",
    "# 该副本通过tensorflow会话的范围来重新传输变量值中的任何更改\n",
    "\n",
    "beta_0 = tf.Variable(2.0)\n",
    "\n",
    "beta_1 = tf.Variable(3.0)\n",
    "\n",
    "beta_2 = tf.Variable(4.0)\n",
    "\n",
    "beta_3 = tf.Variable(5.0)   \n",
    "\n",
    "y_pred = tf.add(  beta_0,\n",
    "                    tf.add( tf.multiply(beta_1,x),\n",
    "                           tf.add( tf.multiply(beta_2, tf.multiply(x,x)),\n",
    "                                  tf.multiply(beta_3, tf.multiply(x,tf.multiply(x,x)))))) "
   ]
  },
  {
   "cell_type": "code",
   "execution_count": 4,
   "metadata": {},
   "outputs": [
    {
     "data": {
      "text/plain": [
       "[<matplotlib.lines.Line2D at 0x1e8a8a35cf8>]"
      ]
     },
     "execution_count": 4,
     "metadata": {},
     "output_type": "execute_result"
    },
    {
     "data": {
      "image/png": "[encoded data removed]",
      "text/plain": [
       "<matplotlib.figure.Figure at 0x1e8a8a58208>"
      ]
     },
     "metadata": {},
     "output_type": "display_data"
    }
   ],
   "source": [
    "# 初始化会话，并显示初始拟合函数\n",
    "\n",
    "#创建session，并初始化变量\n",
    "\n",
    "session = tf.Session()\n",
    "\n",
    "session.run(tf.global_variables_initializer())\n",
    "\n",
    "#用初始参数值进行预测\n",
    "\n",
    "pred = session.run(y_pred, feed_dict={x:x_data, y:y_data})\n",
    "\n",
    "#根据数据点绘制初始预测\n",
    "\n",
    "plt.plot(x_data, pred)\n",
    "\n",
    "plt.plot(x_data, y_data, 'ro')"
   ]
  },
  {
   "cell_type": "code",
   "execution_count": 5,
   "metadata": {
    "collapsed": true
   },
   "outputs": [],
   "source": [
    "# 以上拟合的曲线与样本差别很大，可通过下面的拟合方法得到较好的拟合效果\n",
    "# 设置损失函数\n",
    "\n",
    "# 标准化因子\n",
    "nf = 1e-1\n",
    "\n",
    "# 设置损失函数\n",
    "loss = tf.reduce_mean(tf.squared_difference(y_pred*nf,y*nf))\n",
    "\n",
    "# 设置优化器\n",
    "optimizer = tf.train.GradientDescentOptimizer(learning_rate=0.01)\n",
    "\n",
    "# 通过优化器应优化的损失函数\n",
    "train = optimizer.minimize(loss)\n",
    "\n",
    "session.run(tf.global_variables_initializer())"
   ]
  },
  {
   "cell_type": "code",
   "execution_count": 6,
   "metadata": {},
   "outputs": [
    {
     "name": "stdout",
     "output_type": "stream",
     "text": [
      "steps = 0  loss = inf\n",
      "steps = 1000  loss = 0.197009\n",
      "steps = 2000  loss = 0.119587\n",
      "steps = 3000  loss = 0.100819\n",
      "steps = 4000  loss = 0.094441\n",
      "steps = 5000  loss = 0.090922\n",
      "steps = 6000  loss = 0.088264\n",
      "steps = 7000  loss = 0.086021\n",
      "steps = 8000  loss = 0.084070\n",
      "steps = 9000  loss = 0.082359\n",
      "steps = 9999 loss = 0.080854\n"
     ]
    }
   ],
   "source": [
    "# 开始训练，并输出每1000次迭代后的损失值\n",
    "\n",
    "losses = [float(\"Inf\")]\n",
    "\n",
    "epoch = 10000\n",
    "\n",
    "#循环训练\n",
    "for steps in  range(epoch):\n",
    "\n",
    "    t,l = session.run([train, loss], feed_dict={x:x_data,y:y_data})\n",
    "\n",
    "    losses.append(l)\n",
    "\n",
    "    #如果损失开始改变小于1e-7，则停止训练\n",
    "\n",
    "    if abs(losses[-1] - losses[-2]) < 10^-3:\n",
    "\n",
    "        break\n",
    "\n",
    "    if steps%1000 == 0:\n",
    "\n",
    "        print(\"steps = %d  loss = %f\"%(steps,losses[steps]))\n",
    "\n",
    "        \n",
    "\n",
    "print(\"steps = %d loss = %f\"%(steps,losses[steps]))"
   ]
  },
  {
   "cell_type": "code",
   "execution_count": 7,
   "metadata": {},
   "outputs": [
    {
     "name": "stdout",
     "output_type": "stream",
     "text": [
      "beta_0 = 1.004781, beta_1 = 1.094178, beta_2 = -1.357563, beta_3 = 0.501319\n"
     ]
    },
    {
     "data": {
      "image/png": "[encoded data removed]",
      "text/plain": [
       "<matplotlib.figure.Figure at 0x1e8a9e6bef0>"
      ]
     },
     "metadata": {},
     "output_type": "display_data"
    }
   ],
   "source": [
    "# 输出拟合参数，并查看拟合效果\n",
    "\n",
    "#从训练模型中得出预测值\n",
    "pred,b0, b1, b2, b3 = session.run([y_pred, beta_0, beta_1, beta_2, beta_3], feed_dict={x:x_data,y:y_data})\n",
    "\n",
    "#根据数据点绘制预测图\n",
    "plt.plot(x_data, pred)\n",
    "plt.plot(x_data, y_data, 'ro')\n",
    "\n",
    "#输出最终参数\n",
    "print(\"beta_0 = %f, beta_1 = %f, beta_2 = %f, beta_3 = %f\" % (b0,b1, b2, b3))"
   ]
  },
  {
   "cell_type": "code",
   "execution_count": 8,
   "metadata": {},
   "outputs": [
    {
     "data": {
      "text/plain": [
       "[<matplotlib.lines.Line2D at 0x1e8a9f79048>]"
      ]
     },
     "execution_count": 8,
     "metadata": {},
     "output_type": "execute_result"
    },
    {
     "data": {
      "image/png": "[encoded data removed]",
      "text/plain": [
       "<matplotlib.figure.Figure at 0x1e8a9f1e710>"
      ]
     },
     "metadata": {},
     "output_type": "display_data"
    }
   ],
   "source": [
    "# 查看训练过程中损失值变化情况\n",
    "plt.plot(losses)"
   ]
  }
 ],
 "metadata": {
  "kernelspec": {
   "display_name": "Python 3",
   "language": "python",
   "name": "python3"
  },
  "language_info": {
   "codemirror_mode": {
    "name": "ipython",
    "version": 3
   },
   "file_extension": ".py",
   "mimetype": "text/x-python",
   "name": "python",
   "nbconvert_exporter": "python",
   "pygments_lexer": "ipython3",
   "version": "3.5.6"
  }
 },
 "nbformat": 4,
 "nbformat_minor": 2
}
