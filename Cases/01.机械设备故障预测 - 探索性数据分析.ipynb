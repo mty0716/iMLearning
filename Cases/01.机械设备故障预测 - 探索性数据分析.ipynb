{
 "cells": [
  {
   "cell_type": "code",
   "execution_count": 74,
   "metadata": {},
   "outputs": [],
   "source": [
    "# 导入工具包\n",
    "import pandas as pd\n",
    "\n",
    "# 读取数据\n",
    "records = pd.read_csv('./data/machine_fault_records.csv', low_memory=False)\n",
    "codes = pd.read_csv('./data/machine_fault_codes.csv', encoding='gbk')"
   ]
  },
  {
   "cell_type": "code",
   "execution_count": 75,
   "metadata": {
    "scrolled": false
   },
   "outputs": [
    {
     "name": "stdout",
     "output_type": "stream",
     "text": [
      "<class 'pandas.core.frame.DataFrame'>\n",
      "RangeIndex: 473 entries, 0 to 472\n",
      "Data columns (total 7 columns):\n",
      "CODE            473 non-null int64\n",
      "SPN             473 non-null int64\n",
      "FMI             473 non-null int64\n",
      "DESCRIPTION     471 non-null object\n",
      "ENGINETYPEID    473 non-null int64\n",
      "FAULTSOURCE     473 non-null object\n",
      "FAULTNAME       473 non-null object\n",
      "dtypes: int64(4), object(3)\n",
      "memory usage: 25.9+ KB\n"
     ]
    }
   ],
   "source": [
    "# 数据统计信息\n",
    "codes.info()"
   ]
  },
  {
   "cell_type": "code",
   "execution_count": 76,
   "metadata": {
    "scrolled": true
   },
   "outputs": [
    {
     "data": {
      "text/html": [
       "<div>\n",
       "<style scoped>\n",
       "    .dataframe tbody tr th:only-of-type {\n",
       "        vertical-align: middle;\n",
       "    }\n",
       "\n",
       "    .dataframe tbody tr th {\n",
       "        vertical-align: top;\n",
       "    }\n",
       "\n",
       "    .dataframe thead th {\n",
       "        text-align: right;\n",
       "    }\n",
       "</style>\n",
       "<table border=\"1\" class=\"dataframe\">\n",
       "  <thead>\n",
       "    <tr style=\"text-align: right;\">\n",
       "      <th></th>\n",
       "      <th>CODE</th>\n",
       "      <th>SPN</th>\n",
       "      <th>FMI</th>\n",
       "      <th>DESCRIPTION</th>\n",
       "      <th>ENGINETYPEID</th>\n",
       "      <th>FAULTSOURCE</th>\n",
       "      <th>FAULTNAME</th>\n",
       "    </tr>\n",
       "  </thead>\n",
       "  <tbody>\n",
       "    <tr>\n",
       "      <th>138</th>\n",
       "      <td>1048</td>\n",
       "      <td>5210</td>\n",
       "      <td>2</td>\n",
       "      <td>TCU接收消息（齿轮选择范围）(ZF_3_识别)和前轮驱动状态 (V_IDENT_FWD)虽...</td>\n",
       "      <td>1958</td>\n",
       "      <td>变速箱</td>\n",
       "      <td>TCU接收消息（齿轮选择范围）</td>\n",
       "    </tr>\n",
       "    <tr>\n",
       "      <th>389</th>\n",
       "      <td>1385</td>\n",
       "      <td>1416</td>\n",
       "      <td>11</td>\n",
       "      <td>4缸喷油器错误</td>\n",
       "      <td>1958</td>\n",
       "      <td>潍柴国三</td>\n",
       "      <td>4缸喷油器错误</td>\n",
       "    </tr>\n",
       "    <tr>\n",
       "      <th>429</th>\n",
       "      <td>1425</td>\n",
       "      <td>1328</td>\n",
       "      <td>3</td>\n",
       "      <td>6缸失火</td>\n",
       "      <td>1958</td>\n",
       "      <td>潍柴国三</td>\n",
       "      <td>6缸失火</td>\n",
       "    </tr>\n",
       "    <tr>\n",
       "      <th>6</th>\n",
       "      <td>1181</td>\n",
       "      <td>136</td>\n",
       "      <td>2</td>\n",
       "      <td>共轨压力超过最高限制</td>\n",
       "      <td>1958</td>\n",
       "      <td>上柴国三</td>\n",
       "      <td>共轨压力超过最高限制</td>\n",
       "    </tr>\n",
       "    <tr>\n",
       "      <th>466</th>\n",
       "      <td>1465</td>\n",
       "      <td>520277</td>\n",
       "      <td>4</td>\n",
       "      <td>远程油门踏板1输出电压值低于下限</td>\n",
       "      <td>1958</td>\n",
       "      <td>潍柴国三</td>\n",
       "      <td>远程油门踏板1输出电压值低于下限</td>\n",
       "    </tr>\n",
       "  </tbody>\n",
       "</table>\n",
       "</div>"
      ],
      "text/plain": [
       "     CODE     SPN  FMI                                        DESCRIPTION  \\\n",
       "138  1048    5210    2  TCU接收消息（齿轮选择范围）(ZF_3_识别)和前轮驱动状态 (V_IDENT_FWD)虽...   \n",
       "389  1385    1416   11                                            4缸喷油器错误   \n",
       "429  1425    1328    3                                               6缸失火   \n",
       "6    1181     136    2                                         共轨压力超过最高限制   \n",
       "466  1465  520277    4                                   远程油门踏板1输出电压值低于下限   \n",
       "\n",
       "     ENGINETYPEID FAULTSOURCE         FAULTNAME  \n",
       "138          1958         变速箱   TCU接收消息（齿轮选择范围）  \n",
       "389          1958        潍柴国三           4缸喷油器错误  \n",
       "429          1958        潍柴国三              6缸失火  \n",
       "6            1958        上柴国三        共轨压力超过最高限制  \n",
       "466          1958        潍柴国三  远程油门踏板1输出电压值低于下限  "
      ]
     },
     "execution_count": 76,
     "metadata": {},
     "output_type": "execute_result"
    }
   ],
   "source": [
    "# 数据格式\n",
    "codes.sample(5)"
   ]
  },
  {
   "cell_type": "code",
   "execution_count": 77,
   "metadata": {},
   "outputs": [
    {
     "name": "stdout",
     "output_type": "stream",
     "text": [
      "<class 'pandas.core.frame.DataFrame'>\n",
      "RangeIndex: 131134 entries, 0 to 131133\n",
      "Data columns (total 19 columns):\n",
      "ACCRUNTIMES           131134 non-null int64\n",
      "AREA                  131134 non-null int64\n",
      "CD_VP_UNIQUENO        0 non-null float64\n",
      "CITY                  131134 non-null int64\n",
      "COLLECTTIME           131134 non-null object\n",
      "COOLANTTEMPERATURE    0 non-null float64\n",
      "DIRECTION             0 non-null float64\n",
      "ELCANDVOL             0 non-null float64\n",
      "FAULTTIME             131134 non-null object\n",
      "FMI                   131131 non-null float64\n",
      "FRID                  131134 non-null int64\n",
      "LATITUDE              131134 non-null float64\n",
      "LONGITUDE             131134 non-null float64\n",
      "PROVINCE              131134 non-null int64\n",
      "READFLAG              131134 non-null int64\n",
      "ROTATIONALSPEED       0 non-null float64\n",
      "SPN                   131130 non-null float64\n",
      "SYSTEMDATE            0 non-null float64\n",
      "UNIQUENO              131134 non-null float64\n",
      "dtypes: float64(11), int64(6), object(2)\n",
      "memory usage: 19.0+ MB\n"
     ]
    }
   ],
   "source": [
    "# 数据统计信息\n",
    "records.info()"
   ]
  },
  {
   "cell_type": "code",
   "execution_count": 78,
   "metadata": {
    "scrolled": true
   },
   "outputs": [
    {
     "data": {
      "text/html": [
       "<div>\n",
       "<style scoped>\n",
       "    .dataframe tbody tr th:only-of-type {\n",
       "        vertical-align: middle;\n",
       "    }\n",
       "\n",
       "    .dataframe tbody tr th {\n",
       "        vertical-align: top;\n",
       "    }\n",
       "\n",
       "    .dataframe thead th {\n",
       "        text-align: right;\n",
       "    }\n",
       "</style>\n",
       "<table border=\"1\" class=\"dataframe\">\n",
       "  <thead>\n",
       "    <tr style=\"text-align: right;\">\n",
       "      <th></th>\n",
       "      <th>ACCRUNTIMES</th>\n",
       "      <th>AREA</th>\n",
       "      <th>CD_VP_UNIQUENO</th>\n",
       "      <th>CITY</th>\n",
       "      <th>COLLECTTIME</th>\n",
       "      <th>COOLANTTEMPERATURE</th>\n",
       "      <th>DIRECTION</th>\n",
       "      <th>ELCANDVOL</th>\n",
       "      <th>FAULTTIME</th>\n",
       "      <th>FMI</th>\n",
       "      <th>FRID</th>\n",
       "      <th>LATITUDE</th>\n",
       "      <th>LONGITUDE</th>\n",
       "      <th>PROVINCE</th>\n",
       "      <th>READFLAG</th>\n",
       "      <th>ROTATIONALSPEED</th>\n",
       "      <th>SPN</th>\n",
       "      <th>SYSTEMDATE</th>\n",
       "      <th>UNIQUENO</th>\n",
       "    </tr>\n",
       "  </thead>\n",
       "  <tbody>\n",
       "    <tr>\n",
       "      <th>53376</th>\n",
       "      <td>606</td>\n",
       "      <td>410481</td>\n",
       "      <td>NaN</td>\n",
       "      <td>410400</td>\n",
       "      <td>2018/4/8 14:07</td>\n",
       "      <td>NaN</td>\n",
       "      <td>NaN</td>\n",
       "      <td>NaN</td>\n",
       "      <td>2018/4/8 14:07</td>\n",
       "      <td>15.0</td>\n",
       "      <td>2415253</td>\n",
       "      <td>33.224896</td>\n",
       "      <td>33.224896</td>\n",
       "      <td>410000</td>\n",
       "      <td>1</td>\n",
       "      <td>NaN</td>\n",
       "      <td>8809.0</td>\n",
       "      <td>NaN</td>\n",
       "      <td>2.020000e+17</td>\n",
       "    </tr>\n",
       "    <tr>\n",
       "      <th>11985</th>\n",
       "      <td>1012</td>\n",
       "      <td>320829</td>\n",
       "      <td>NaN</td>\n",
       "      <td>320800</td>\n",
       "      <td>2018/4/2 17:16</td>\n",
       "      <td>NaN</td>\n",
       "      <td>NaN</td>\n",
       "      <td>NaN</td>\n",
       "      <td>2018/4/2 17:16</td>\n",
       "      <td>15.0</td>\n",
       "      <td>2372808</td>\n",
       "      <td>33.281823</td>\n",
       "      <td>33.281823</td>\n",
       "      <td>320000</td>\n",
       "      <td>1</td>\n",
       "      <td>NaN</td>\n",
       "      <td>8809.0</td>\n",
       "      <td>NaN</td>\n",
       "      <td>2.020000e+17</td>\n",
       "    </tr>\n",
       "    <tr>\n",
       "      <th>123786</th>\n",
       "      <td>722</td>\n",
       "      <td>361181</td>\n",
       "      <td>NaN</td>\n",
       "      <td>361100</td>\n",
       "      <td>2018/4/17 16:21</td>\n",
       "      <td>NaN</td>\n",
       "      <td>NaN</td>\n",
       "      <td>NaN</td>\n",
       "      <td>2018/4/17 16:21</td>\n",
       "      <td>15.0</td>\n",
       "      <td>2510298</td>\n",
       "      <td>29.002847</td>\n",
       "      <td>29.002847</td>\n",
       "      <td>360000</td>\n",
       "      <td>1</td>\n",
       "      <td>NaN</td>\n",
       "      <td>8809.0</td>\n",
       "      <td>NaN</td>\n",
       "      <td>2.020000e+17</td>\n",
       "    </tr>\n",
       "    <tr>\n",
       "      <th>123742</th>\n",
       "      <td>305</td>\n",
       "      <td>370521</td>\n",
       "      <td>NaN</td>\n",
       "      <td>370500</td>\n",
       "      <td>2018/4/17 16:18</td>\n",
       "      <td>NaN</td>\n",
       "      <td>NaN</td>\n",
       "      <td>NaN</td>\n",
       "      <td>2018/4/17 16:18</td>\n",
       "      <td>15.0</td>\n",
       "      <td>2510247</td>\n",
       "      <td>37.524688</td>\n",
       "      <td>37.524688</td>\n",
       "      <td>370000</td>\n",
       "      <td>1</td>\n",
       "      <td>NaN</td>\n",
       "      <td>8809.0</td>\n",
       "      <td>NaN</td>\n",
       "      <td>2.020000e+17</td>\n",
       "    </tr>\n",
       "    <tr>\n",
       "      <th>76982</th>\n",
       "      <td>1335</td>\n",
       "      <td>130208</td>\n",
       "      <td>NaN</td>\n",
       "      <td>130200</td>\n",
       "      <td>2018/4/11 6:58</td>\n",
       "      <td>NaN</td>\n",
       "      <td>NaN</td>\n",
       "      <td>NaN</td>\n",
       "      <td>2018/4/11 6:58</td>\n",
       "      <td>15.0</td>\n",
       "      <td>2444966</td>\n",
       "      <td>39.584417</td>\n",
       "      <td>39.584417</td>\n",
       "      <td>130000</td>\n",
       "      <td>1</td>\n",
       "      <td>NaN</td>\n",
       "      <td>8809.0</td>\n",
       "      <td>NaN</td>\n",
       "      <td>2.020000e+17</td>\n",
       "    </tr>\n",
       "  </tbody>\n",
       "</table>\n",
       "</div>"
      ],
      "text/plain": [
       "        ACCRUNTIMES    AREA  CD_VP_UNIQUENO    CITY      COLLECTTIME  \\\n",
       "53376           606  410481             NaN  410400   2018/4/8 14:07   \n",
       "11985          1012  320829             NaN  320800   2018/4/2 17:16   \n",
       "123786          722  361181             NaN  361100  2018/4/17 16:21   \n",
       "123742          305  370521             NaN  370500  2018/4/17 16:18   \n",
       "76982          1335  130208             NaN  130200   2018/4/11 6:58   \n",
       "\n",
       "        COOLANTTEMPERATURE  DIRECTION  ELCANDVOL        FAULTTIME   FMI  \\\n",
       "53376                  NaN        NaN        NaN   2018/4/8 14:07  15.0   \n",
       "11985                  NaN        NaN        NaN   2018/4/2 17:16  15.0   \n",
       "123786                 NaN        NaN        NaN  2018/4/17 16:21  15.0   \n",
       "123742                 NaN        NaN        NaN  2018/4/17 16:18  15.0   \n",
       "76982                  NaN        NaN        NaN   2018/4/11 6:58  15.0   \n",
       "\n",
       "           FRID   LATITUDE  LONGITUDE  PROVINCE  READFLAG  ROTATIONALSPEED  \\\n",
       "53376   2415253  33.224896  33.224896    410000         1              NaN   \n",
       "11985   2372808  33.281823  33.281823    320000         1              NaN   \n",
       "123786  2510298  29.002847  29.002847    360000         1              NaN   \n",
       "123742  2510247  37.524688  37.524688    370000         1              NaN   \n",
       "76982   2444966  39.584417  39.584417    130000         1              NaN   \n",
       "\n",
       "           SPN  SYSTEMDATE      UNIQUENO  \n",
       "53376   8809.0         NaN  2.020000e+17  \n",
       "11985   8809.0         NaN  2.020000e+17  \n",
       "123786  8809.0         NaN  2.020000e+17  \n",
       "123742  8809.0         NaN  2.020000e+17  \n",
       "76982   8809.0         NaN  2.020000e+17  "
      ]
     },
     "execution_count": 78,
     "metadata": {},
     "output_type": "execute_result"
    }
   ],
   "source": [
    "# 数据格式\n",
    "records.sample(5)"
   ]
  },
  {
   "cell_type": "code",
   "execution_count": 79,
   "metadata": {},
   "outputs": [],
   "source": [
    "# 删除指定列为空值的行\n",
    "records.dropna(subset=['SPN', 'FMI'], inplace=True)"
   ]
  },
  {
   "cell_type": "code",
   "execution_count": 80,
   "metadata": {},
   "outputs": [
    {
     "name": "stdout",
     "output_type": "stream",
     "text": [
      "共有6个全为空值的列\n",
      "这些列为： Index(['CD_VP_UNIQUENO', 'COOLANTTEMPERATURE', 'DIRECTION', 'ELCANDVOL',\n",
      "       'ROTATIONALSPEED', 'SYSTEMDATE'],\n",
      "      dtype='object')\n"
     ]
    }
   ],
   "source": [
    "# 删除值全为空的列\n",
    "empty_columns = records.columns[records.isnull().sum() == records.shape[0]]\n",
    "print('共有%i个全为空值的列' % len(empty_columns))\n",
    "print('这些列为：', empty_columns)\n",
    "\n",
    "records.drop(empty_columns, axis=1, inplace=True)"
   ]
  },
  {
   "cell_type": "code",
   "execution_count": 81,
   "metadata": {},
   "outputs": [
    {
     "name": "stdout",
     "output_type": "stream",
     "text": [
      "共有1个列只有同一个值，\n",
      "这些列为： Index(['UNIQUENO'], dtype='object')\n"
     ]
    }
   ],
   "source": [
    "# 删除只有同一个值的特征列\n",
    "onlyone_val_columns = records.columns[records.nunique(axis=0) == 1]\n",
    "print('共有%i个列只有同一个值，' % len(onlyone_val_columns))\n",
    "print('这些列为：', onlyone_val_columns)\n",
    "\n",
    "records.drop(onlyone_val_columns, axis=1, inplace=True)"
   ]
  },
  {
   "cell_type": "code",
   "execution_count": 82,
   "metadata": {
    "scrolled": true
   },
   "outputs": [
    {
     "name": "stdout",
     "output_type": "stream",
     "text": [
      "<class 'pandas.core.frame.DataFrame'>\n",
      "Int64Index: 131127 entries, 0 to 131133\n",
      "Data columns (total 12 columns):\n",
      "ACCRUNTIMES    131127 non-null int64\n",
      "AREA           131127 non-null int64\n",
      "CITY           131127 non-null int64\n",
      "COLLECTTIME    131127 non-null object\n",
      "FAULTTIME      131127 non-null object\n",
      "FMI            131127 non-null float64\n",
      "FRID           131127 non-null int64\n",
      "LATITUDE       131127 non-null float64\n",
      "LONGITUDE      131127 non-null float64\n",
      "PROVINCE       131127 non-null int64\n",
      "READFLAG       131127 non-null int64\n",
      "SPN            131127 non-null float64\n",
      "dtypes: float64(4), int64(6), object(2)\n",
      "memory usage: 13.0+ MB\n"
     ]
    }
   ],
   "source": [
    "# 数据统计\n",
    "records.info()"
   ]
  }
 ],
 "metadata": {
  "kernelspec": {
   "display_name": "Python 3",
   "language": "python",
   "name": "python3"
  },
  "language_info": {
   "codemirror_mode": {
    "name": "ipython",
    "version": 3
   },
   "file_extension": ".py",
   "mimetype": "text/x-python",
   "name": "python",
   "nbconvert_exporter": "python",
   "pygments_lexer": "ipython3",
   "version": "3.7.1"
  }
 },
 "nbformat": 4,
 "nbformat_minor": 2
}
