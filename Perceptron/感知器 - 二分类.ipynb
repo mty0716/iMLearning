{
 "cells": [
  {
   "cell_type": "code",
   "execution_count": 1,
   "metadata": {},
   "outputs": [],
   "source": [
    "import numpy as np\n",
    "import pandas as pd"
   ]
  },
  {
   "cell_type": "code",
   "execution_count": 2,
   "metadata": {},
   "outputs": [
    {
     "data": {
      "text/plain": [
       "97"
      ]
     },
     "execution_count": 2,
     "metadata": {},
     "output_type": "execute_result"
    }
   ],
   "source": [
    "data = pd.read_csv(r\"Iris.csv\")\n",
    "# data.head()\n",
    "data.drop(\"Id\", axis=1, inplace=True)\n",
    "data.drop_duplicates(inplace=True)\n",
    "# 之所以映射为1与-1,而不是之前的0,1,2，是因为感知器的预测结果为1与-1。\n",
    "# 目的是为了与感知器预测的结果相符。\n",
    "data[\"Species\"] = data[\"Species\"].map({\"Iris-versicolor\": 0, \"Iris-virginica\": 1, \"Iris-setosa\": -1})\n",
    "# data[\"Species\"].value_counts()\n",
    "data = data[data[\"Species\"] != 0]\n",
    "len(data)"
   ]
  },
  {
   "cell_type": "code",
   "execution_count": 3,
   "metadata": {},
   "outputs": [],
   "source": [
    "class Perceptron:\n",
    "    \"\"\"使用Python语言实现感知器算法，实现二分类。\"\"\"\n",
    "    \n",
    "    def __init__(self, alpha, times):\n",
    "        \"\"\"初始化方法。\n",
    "        \n",
    "        Parameters\n",
    "        -----\n",
    "        alpha : float\n",
    "            学习率。\n",
    "            \n",
    "        times : int\n",
    "            最大迭代次数\n",
    "        \n",
    "        \"\"\"\n",
    "        self.alpha = alpha\n",
    "        self.times = times\n",
    "        \n",
    "    def step(self, z):\n",
    "        \"\"\"阶跃函数。\n",
    "        \n",
    "        \n",
    "        Parameters\n",
    "        -----\n",
    "        z : 数组类型（或者是标量类型）\n",
    "            阶跃函数的参数。可以根据z的值，返回1或-1（这样就可以实现二分类）。\n",
    "            \n",
    "        Returns\n",
    "        -----\n",
    "        value : int\n",
    "            如果z >= 0,返回1， 否则返回-1。\n",
    "        \"\"\"\n",
    "        \n",
    "#         return 1 if z >=0 else 0\n",
    "        return np.where(z >= 0, 1, -1)\n",
    "\n",
    "    def fit(self, X, y):\n",
    "        \"\"\"根据提供的训练数据，对模型进行训练。\n",
    "        \n",
    "        Parameters\n",
    "        -----\n",
    "        X : 类数组类型。形状：[样本数量，特征数量]\n",
    "            待训练的样本数据。\n",
    "            \n",
    "        y : 类数组类型。 形状： [样本数量]\n",
    "            每个样本的目标值。（分类）\n",
    "        \n",
    "        \n",
    "        \"\"\"\n",
    "        X = np.asarray(X)\n",
    "        y = np.asarray(y)\n",
    "        # 创建权重的向量，初始值为0.长度比特征多1.（多出的一个就是截距）。\n",
    "        self.w_ = np.zeros(1 + X.shape[1])\n",
    "        #创建损失列表，用来保存每次迭代后的损失值。\n",
    "        self.loss_ = []\n",
    "        # 循环指定的次数。\n",
    "        for i in range(self.times):\n",
    "            #  感知器与逻辑回归的区别：逻辑回归中，使用所有样本计算梯度，然后更新权重。\n",
    "            # 而感知器中，是使用单个样本，依次进行计算梯度，更新权重。\n",
    "            loss = 0\n",
    "            for x, target in zip(X, y):\n",
    "                # 计算预测值\n",
    "                y_hat = self.step(np.dot(x, self.w_[1:]) + self.w_[0])\n",
    "                loss += y_hat != target\n",
    "                # 更新权重。\n",
    "                # 更新公式： w(j) = w(j) +  学习率 * （真实值 - 预测值） * x(j)\n",
    "                self.w_[0] += self.alpha * (target - y_hat)\n",
    "                self.w_[1:] += self.alpha * (target - y_hat) * x\n",
    "            # 将循环中累计的误差值增加到误差列表当中。\n",
    "            self.loss_.append(loss)\n",
    "            \n",
    "    def predict(self, X):\n",
    "        \"\"\"根据参数传递的样本，对样本数据进行预测。（1或-1）\n",
    "        \n",
    "        Parameters\n",
    "        -----\n",
    "        X : 类数组类型， 形状为：[样本数量， 特征数量]\n",
    "            待预测的样本特征。\n",
    "            \n",
    "        Returns\n",
    "        -----\n",
    "        result : 数组类型\n",
    "            预测的结果值（分类值1或-1）\n",
    "        \n",
    "        \"\"\"\n",
    "        \n",
    "        return self.step(np.dot(X, self.w_[1:]) + self.w_[0])"
   ]
  },
  {
   "cell_type": "code",
   "execution_count": 5,
   "metadata": {},
   "outputs": [
    {
     "data": {
      "text/plain": [
       "array([ 1,  1,  1,  1,  1,  1,  1,  1,  1, -1, -1, -1, -1, -1, -1, -1, -1])"
      ]
     },
     "metadata": {},
     "output_type": "display_data"
    },
    {
     "data": {
      "text/plain": [
       "array([ 1,  1,  1,  1,  1,  1,  1,  1,  1, -1, -1, -1, -1, -1, -1, -1, -1],\n",
       "      dtype=int64)"
      ]
     },
     "metadata": {},
     "output_type": "display_data"
    },
    {
     "data": {
      "text/plain": [
       "array([-0.4 , -0.44, -1.44,  1.88,  0.72])"
      ]
     },
     "metadata": {},
     "output_type": "display_data"
    },
    {
     "data": {
      "text/plain": [
       "[1, 2, 3, 2, 0, 0, 0, 0, 0, 0]"
      ]
     },
     "metadata": {},
     "output_type": "display_data"
    }
   ],
   "source": [
    "t1 = data[data[\"Species\"] == 1]\n",
    "t2 = data[data[\"Species\"] == -1]\n",
    "t1 = t1.sample(len(t1), random_state=0)\n",
    "t2 = t2.sample(len(t2), random_state=0)\n",
    "train_X = pd.concat([t1.iloc[:40, :-1], t2.iloc[:40, :-1]], axis=0)\n",
    "train_y = pd.concat([t1.iloc[:40, -1], t2.iloc[:40, -1]], axis=0)\n",
    "test_X = pd.concat([t1.iloc[40:, :-1], t2.iloc[40:, :-1]], axis=0)\n",
    "test_y = pd.concat([t1.iloc[40:, -1], t2.iloc[40:, -1]], axis=0)\n",
    "p = Perceptron(0.1, 10)\n",
    "p.fit(train_X, train_y)\n",
    "result = p.predict(test_X)\n",
    "display(result)\n",
    "display(test_y.values)\n",
    "display(p.w_)\n",
    "display(p.loss_)"
   ]
  },
  {
   "cell_type": "code",
   "execution_count": 7,
   "metadata": {},
   "outputs": [],
   "source": [
    "import matplotlib as mpl\n",
    "import matplotlib.pyplot as plt\n",
    "mpl.rcParams[\"font.family\"] = \"SimHei\"\n",
    "mpl.rcParams[\"axes.unicode_minus\"] = False"
   ]
  },
  {
   "cell_type": "code",
   "execution_count": 8,
   "metadata": {},
   "outputs": [
    {
     "data": {
      "image/png": "[encoded data removed]",
      "text/plain": [
       "<Figure size 432x288 with 1 Axes>"
      ]
     },
     "metadata": {
      "needs_background": "light"
     },
     "output_type": "display_data"
    }
   ],
   "source": [
    "# 绘制真实值\n",
    "plt.plot(test_y.values, \"go\", ms=15, label=\"真实值\")\n",
    "# 绘制预测值\n",
    "plt.plot(result, \"rx\", ms=15, label=\"预测值\")\n",
    "plt.title(\"感知器二分类\")\n",
    "plt.xlabel(\"样本序号\")\n",
    "plt.ylabel(\"类别\")\n",
    "plt.legend()\n",
    "plt.show()"
   ]
  },
  {
   "cell_type": "code",
   "execution_count": 10,
   "metadata": {},
   "outputs": [
    {
     "data": {
      "text/plain": [
       "[<matplotlib.lines.Line2D at 0x209057178d0>]"
      ]
     },
     "execution_count": 10,
     "metadata": {},
     "output_type": "execute_result"
    },
    {
     "data": {
      "image/png": "[encoded data removed]",
      "text/plain": [
       "<Figure size 432x288 with 1 Axes>"
      ]
     },
     "metadata": {
      "needs_background": "light"
     },
     "output_type": "display_data"
    }
   ],
   "source": [
    "# 绘制目标函数的损失值。\n",
    "plt.plot(range(1, p.times + 1), p.loss_, \"o-\")"
   ]
  }
 ],
 "metadata": {
  "kernelspec": {
   "display_name": "Python 3",
   "language": "python",
   "name": "python3"
  },
  "language_info": {
   "codemirror_mode": {
    "name": "ipython",
    "version": 3
   },
   "file_extension": ".py",
   "mimetype": "text/x-python",
   "name": "python",
   "nbconvert_exporter": "python",
   "pygments_lexer": "ipython3",
   "version": "3.7.1"
  }
 },
 "nbformat": 4,
 "nbformat_minor": 2
}
