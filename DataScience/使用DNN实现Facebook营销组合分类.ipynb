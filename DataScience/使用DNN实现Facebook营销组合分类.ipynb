{
 "cells": [
  {
   "cell_type": "code",
   "execution_count": 1,
   "metadata": {
    "scrolled": true
   },
   "outputs": [],
   "source": [
    "import numpy as np\n",
    "import pandas as pd\n",
    "import tensorflow as tf\n",
    "from sklearn.preprocessing import LabelEncoder\n",
    "from sklearn.preprocessing import OneHotEncoder\n",
    "from sklearn.model_selection import train_test_split"
   ]
  },
  {
   "cell_type": "code",
   "execution_count": 5,
   "metadata": {},
   "outputs": [
    {
     "ename": "AttributeError",
     "evalue": "module 'tensorflow.python.estimator.estimator_lib' has no attribute 'DNNClassifier'",
     "output_type": "error",
     "traceback": [
      "\u001b[1;31m---------------------------------------------------------------------------\u001b[0m",
      "\u001b[1;31mAttributeError\u001b[0m                            Traceback (most recent call last)",
      "\u001b[1;32m<ipython-input-5-a1f7119be1b1>\u001b[0m in \u001b[0;36m<module>\u001b[1;34m()\u001b[0m\n\u001b[0;32m     87\u001b[0m     \u001b[0mmy_feature_columns\u001b[0m\u001b[1;33m.\u001b[0m\u001b[0mappend\u001b[0m\u001b[1;33m(\u001b[0m\u001b[0mtf\u001b[0m\u001b[1;33m.\u001b[0m\u001b[0mfeature_column\u001b[0m\u001b[1;33m.\u001b[0m\u001b[0mnumeric_column\u001b[0m\u001b[1;33m(\u001b[0m\u001b[0mkey\u001b[0m\u001b[1;33m=\u001b[0m\u001b[0mkey\u001b[0m\u001b[1;33m)\u001b[0m\u001b[1;33m)\u001b[0m\u001b[1;33m\u001b[0m\u001b[0m\n\u001b[0;32m     88\u001b[0m \u001b[1;33m\u001b[0m\u001b[0m\n\u001b[1;32m---> 89\u001b[1;33m \u001b[0mclassifier\u001b[0m \u001b[1;33m=\u001b[0m \u001b[0mtf\u001b[0m\u001b[1;33m.\u001b[0m\u001b[0mestimator\u001b[0m\u001b[1;33m.\u001b[0m\u001b[0mDNNClassifier\u001b[0m\u001b[1;33m(\u001b[0m\u001b[0mfeature_columns\u001b[0m\u001b[1;33m=\u001b[0m\u001b[0mmy_feature_columns\u001b[0m\u001b[1;33m,\u001b[0m \u001b[0mhidden_units\u001b[0m\u001b[1;33m=\u001b[0m\u001b[1;33m[\u001b[0m\u001b[1;36m512\u001b[0m\u001b[1;33m]\u001b[0m \u001b[1;33m*\u001b[0m \u001b[1;36m2\u001b[0m\u001b[1;33m,\u001b[0m \u001b[0mn_classes\u001b[0m\u001b[1;33m=\u001b[0m\u001b[1;36m10\u001b[0m\u001b[1;33m,\u001b[0m \u001b[0moptimizer\u001b[0m\u001b[1;33m=\u001b[0m\u001b[1;34m\"SGD\"\u001b[0m\u001b[1;33m)\u001b[0m\u001b[1;33m\u001b[0m\u001b[0m\n\u001b[0m\u001b[0;32m     90\u001b[0m \u001b[0mclassifier\u001b[0m\u001b[1;33m.\u001b[0m\u001b[0mtrain\u001b[0m\u001b[1;33m(\u001b[0m\u001b[0minput_fn\u001b[0m\u001b[1;33m=\u001b[0m\u001b[1;32mlambda\u001b[0m \u001b[1;33m:\u001b[0m \u001b[0mtrain_input_fn\u001b[0m\u001b[1;33m(\u001b[0m\u001b[0mtrain_X\u001b[0m\u001b[1;33m,\u001b[0m \u001b[0mtrain_y\u001b[0m\u001b[1;33m)\u001b[0m\u001b[1;33m)\u001b[0m\u001b[1;33m\u001b[0m\u001b[0m\n\u001b[0;32m     91\u001b[0m \u001b[0mclassifier\u001b[0m\u001b[1;33m.\u001b[0m\u001b[0mevaluate\u001b[0m\u001b[1;33m(\u001b[0m\u001b[0minput_fn\u001b[0m\u001b[1;33m=\u001b[0m\u001b[1;32mlambda\u001b[0m \u001b[1;33m:\u001b[0m \u001b[0meval_input_fn\u001b[0m\u001b[1;33m(\u001b[0m\u001b[0mtest_X\u001b[0m\u001b[1;33m,\u001b[0m \u001b[0mtest_y\u001b[0m\u001b[1;33m)\u001b[0m\u001b[1;33m)\u001b[0m\u001b[1;33m\u001b[0m\u001b[0m\n",
      "\u001b[1;31mAttributeError\u001b[0m: module 'tensorflow.python.estimator.estimator_lib' has no attribute 'DNNClassifier'"
     ]
    }
   ],
   "source": [
    "def load_data(path):\n",
    "    \"\"\"加载数据集，并对数据集进行处理。\n",
    "    \n",
    "    Parameters\n",
    "    -----\n",
    "    path : str\n",
    "        数据集的路径。\n",
    "        \n",
    "    Returns\n",
    "    -----\n",
    "    (X, y) : tuple\n",
    "        特征矩阵X与对应的标签y。\n",
    "    \"\"\"\n",
    "    \n",
    "    # 加载数据集，注意数据集中没有标题行，需要将header的值设置为None。\n",
    "    data = pd.read_csv(path, header=None)\n",
    "    # 将加载的数据集分为特征X与标签y。\n",
    "    X, y = data.iloc[:, :-1], data.iloc[:, -1]\n",
    "    # 对特征矩阵X进行编码。\n",
    "    lb = LabelEncoder()\n",
    "    X = X.apply(lambda col: lb.fit_transform(col))\n",
    "    # 进行one-hot编码\n",
    "    ohe = OneHotEncoder()\n",
    "    X = pd.DataFrame(ohe.fit_transform(X).toarray())\n",
    "    # tensorflow不支持数值列，需要转换。\n",
    "    X.columns = X.columns.map(lambda x: \"c{x}\")\n",
    "    return X, y\n",
    "\n",
    "def train_input_fn(features, labels):\n",
    "    \"\"\"定义训练函数，用于训练使用。\n",
    "    \n",
    "    Parameters\n",
    "    -----\n",
    "    features : 类数组类型。 形状：[样本数量， 特征数量]\n",
    "        用于训练的特征矩阵。\n",
    "    labels : 类数组类型。形状为：[样本数量]\n",
    "        每个样本对应的标签。（分类）\n",
    "        \n",
    "    Returns\n",
    "    -----\n",
    "    dataset : tf.data.Dataset\n",
    "        数据集。\n",
    "    \"\"\"\n",
    "    \n",
    "    # 创建数据集\n",
    "    dataset = tf.data.Dataset.from_tensor_slices((dict(features), labels))\n",
    "    # 对数据集进行洗牌，重复与分批处理。\n",
    "    dataset = dataset.shuffle(10000, seed=0).repeat(10).batch(50)\n",
    "    return dataset\n",
    "\n",
    "def eval_input_fn(features, labels=None):\n",
    "    \"\"\"定义评估函数，用于评估或预测。\n",
    "    \n",
    "    Parameters\n",
    "    -----\n",
    "    features : 类数组类型。 形状：[样本数量， 特征数量]\n",
    "        用于测试的特征矩阵。\n",
    "    labels : 类数组类型。形状为：[样本数量]\n",
    "        每个样本对应的标签。（分类）\n",
    "        \n",
    "    Returns\n",
    "    -----\n",
    "    dataset : tf.data.Dataset\n",
    "        数据集。\n",
    "    \"\"\"\n",
    "    # 将特征转换成字典类型\n",
    "    features = dict(features)\n",
    "    # 如果要进行未知数据的预测，则没有标签。\n",
    "    if labels is None:\n",
    "        inputs = features\n",
    "    else:\n",
    "        inputs = (features, labels)\n",
    "    # 创建数据集\n",
    "    dataset = tf.data.Dataset.from_tensor_slices(inputs)\n",
    "    # 每次取出100条记录\n",
    "    dataset = dataset.batch(100)\n",
    "    return dataset\n",
    "\n",
    "X, y = load_data(r\"./data/Facebook.csv\")\n",
    "train_X, test_X, train_y, test_y = train_test_split(X, y, test_size=0.25, random_state=0)\n",
    "\n",
    "# 定义特征列列表\n",
    "my_feature_columns = []\n",
    "\n",
    "for key in train_X.keys():\n",
    "    # 创建tensorflow特征列，并加入到特征列表当中。\n",
    "    my_feature_columns.append(tf.feature_column.numeric_column(key=key))\n",
    "\n",
    "classifier = tf.estimator.DNNClassifier(feature_columns=my_feature_columns, hidden_units=[512] * 2, n_classes=10, optimizer=\"SGD\")\n",
    "classifier.train(input_fn=lambda : train_input_fn(train_X, train_y))\n",
    "classifier.evaluate(input_fn=lambda : eval_input_fn(test_X, test_y))"
   ]
  },
  {
   "cell_type": "code",
   "execution_count": null,
   "metadata": {
    "collapsed": true
   },
   "outputs": [],
   "source": []
  }
 ],
 "metadata": {
  "kernelspec": {
   "display_name": "Python 3",
   "language": "python",
   "name": "python3"
  },
  "language_info": {
   "codemirror_mode": {
    "name": "ipython",
    "version": 3
   },
   "file_extension": ".py",
   "mimetype": "text/x-python",
   "name": "python",
   "nbconvert_exporter": "python",
   "pygments_lexer": "ipython3",
   "version": "3.5.6"
  }
 },
 "nbformat": 4,
 "nbformat_minor": 2
}
