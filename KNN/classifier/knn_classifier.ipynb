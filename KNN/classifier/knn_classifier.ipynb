{
 "cells": [
  {
   "cell_type": "code",
   "execution_count": null,
   "metadata": {},
   "outputs": [
    {
     "data": {
      "text/plain": [
       "2    50\n",
       "1    49\n",
       "0    48\n",
       "Name: Species, dtype: int64"
      ]
     },
     "execution_count": 17,
     "metadata": {},
     "output_type": "execute_result"
    }
   ],
   "source": [
    "import numpy as np\n",
    "import pandas as pd\n",
    "import matplotlib as mpl\n",
    "import matplotlib.pyplot as plt\n",
    "\n",
    "# 读取鸢尾花数据集，header参数指定标题的行，默认为0，如果没有标题则使用None\n",
    "data = pd.read_csv(r'data/iris.csv', header=0)\n",
    "\n",
    "# 抽取头部数据，默认5条\n",
    "# data.head()\n",
    "# 抽取末尾数据，默认5条\n",
    "# data.tail()\n",
    "#随机抽取样本，默认一条\n",
    "# data.sample(5)\n",
    "\n",
    "# 将类别文本映射为数值类型\n",
    "data['Species'] = data['Species'].map({'Iris-setosa':0, 'Iris-virginica':1, 'Iris-versicolor':2})\n",
    "\n",
    "# 删除不需要的Id列\n",
    "data.drop('Id', axis=1, inplace=True)\n",
    "\n",
    "# 检验数据集中是否有重复记录\n",
    "# data.duplicated().any()\n",
    "# 删除数据集中的重复记录\n",
    "data.drop_duplicates(inplace=True)\n",
    "# 查看不同类别的鸢尾花各有多少条记录\n",
    "data['Species'].value_counts()"
   ]
  },
  {
   "cell_type": "code",
   "execution_count": 18,
   "metadata": {},
   "outputs": [],
   "source": [
    "class KNN:\n",
    "    # 初始化方法\n",
    "    def __init__(self, k):\n",
    "        self.k = k\n",
    "    \n",
    "    \n",
    "    # 训练方法\n",
    "    def fit(self, X, y):\n",
    "        self.X = np.asarray(X)\n",
    "        self.y = np.asarray(y)\n",
    "        \n",
    "\n",
    "    # 预测方法\n",
    "    def predict(self, X):\n",
    "        X = np.asarray(X)\n",
    "        result = []\n",
    "        # 对nparray进行遍历，每次取数组中的一行进行运算（数组之间对位运算）\n",
    "        for x in X:\n",
    "            # 对于测试集中的每一个样本，依次与训练集中的所有样本求欧氏距离\n",
    "            dis = np.sqrt(np.sum((x - self.X) ** 2, axis=1))\n",
    "            # 返回数组排序后，每个元素在原数组（排序之前的数组）中的索引\n",
    "            index = dis.argsort()\n",
    "            # 进行截断，只取前k个元素，取距离最近的k个元素的索引\n",
    "            index = index[:self.k]\n",
    "            # 返回数组中每个元素出现的次数，元素必须是非负的整数\n",
    "            count = np.bincount(self.y[index])\n",
    "            # 考虑权重\n",
    "            # count = np.bincount(self.y[index], weights= 1 / dis[index])\n",
    "            # 返回nparray数组中，值最大的元素对应的索引，该索引就是判定的类别\n",
    "            # 最大元素索引，就是出现次数最多的元素\n",
    "            result.append(count.argmax())\n",
    "        return np.asarray(result)"
   ]
  },
  {
   "cell_type": "code",
   "execution_count": 19,
   "metadata": {},
   "outputs": [
    {
     "data": {
      "text/plain": [
       "0.9629629629629629"
      ]
     },
     "metadata": {},
     "output_type": "display_data"
    }
   ],
   "source": [
    "# 提取每个类别的鸢尾花数据\n",
    "t0 = data[data['Species'] == 0]\n",
    "t1 = data[data['Species'] == 1]\n",
    "t2 = data[data['Species'] == 2]\n",
    "# 对每个类别数据进行洗牌\n",
    "t0 = t0.sample(len(t0), random_state=0)\n",
    "t1 = t1.sample(len(t1), random_state=0)\n",
    "t2 = t2.sample(len(t2), random_state=0)\n",
    "# 构建训练集与测试集\n",
    "train_X = pd.concat([t0.iloc[:40, :-1], t1.iloc[:40, :-1], t2.iloc[:40, :-1]], axis=0)\n",
    "train_y = pd.concat([t0.iloc[:40, -1], t1.iloc[:40, -1], t2.iloc[:40, -1]], axis=0)\n",
    "test_X = pd.concat([t0.iloc[40:, :-1], t1.iloc[40:, :-1], t2.iloc[40:, :-1]], axis=0)\n",
    "test_y = pd.concat([t0.iloc[40:, -1], t1.iloc[40:, -1], t2.iloc[40:, -1]], axis=0)\n",
    "\n",
    "# 创建KNN对象，进行训练和测试\n",
    "knn = KNN(k=3)\n",
    "# 进行训练\n",
    "knn.fit(train_X, train_y)\n",
    "# 进行测试，获得测试结果\n",
    "result = knn.predict(test_X)\n",
    "# 计算测试正确率\n",
    "# display(result)\n",
    "# display(test_y)\n",
    "display(np.sum(result == test_y) / len(test_y))"
   ]
  },
  {
   "cell_type": "code",
   "execution_count": 38,
   "metadata": {},
   "outputs": [],
   "source": [
    "# 设置matplotlib支持中文\n",
    "mpl.rcParams['font.family'] = 'SimHei'\n",
    "# 设置在中文字体时，能够正常显示负号(-)\n",
    "mpl.rcParams['axes.unicode_minus'] = False"
   ]
  },
  {
   "cell_type": "code",
   "execution_count": 41,
   "metadata": {},
   "outputs": [
    {
     "data": {
      "image/png": "[encoded data removed]",
      "text/plain": [
       "<Figure size 720x720 with 1 Axes>"
      ]
     },
     "metadata": {
      "needs_background": "light"
     },
     "output_type": "display_data"
    }
   ],
   "source": [
    "# {'Iris-setosa':0, 'Iris-virginica':1, 'Iris-versicolor':2}\n",
    "# 设置图表大小\n",
    "plt.figure(figsize=(10, 10))\n",
    "# 绘制训练集数据\n",
    "plt.scatter(x=t0['SepalLengthCm'][:40], y=t0['PetalLengthCm'][:40], color='c', label='Iris-setosa')\n",
    "plt.scatter(x=t1['SepalLengthCm'][:40], y=t1['PetalLengthCm'][:40], color='b', label='Iris-virginica')\n",
    "plt.scatter(x=t2['SepalLengthCm'][:40], y=t2['PetalLengthCm'][:40], color='m', label='Iris-versicolor')\n",
    "# 绘制测试集数据\n",
    "test_true = test_X[result == test_y]\n",
    "test_false = test_X[result != test_y]\n",
    "plt.scatter(x=test_true['SepalLengthCm'], y=test_true['PetalLengthCm'], color='g', marker='>', label='Test-True')\n",
    "plt.scatter(x=test_false['SepalLengthCm'], y=test_false['PetalLengthCm'], color='r', marker='x', label='Test-False')\n",
    "# 图表进行设置\n",
    "\n",
    "plt.xlabel('花萼长度')\n",
    "plt.ylabel('花瓣长度')\n",
    "plt.title('KNN分类结果')\n",
    "plt.legend(loc='best')\n",
    "plt.show()"
   ]
  }
 ],
 "metadata": {
  "kernelspec": {
   "display_name": "Python 3",
   "language": "python",
   "name": "python3"
  },
  "language_info": {
   "codemirror_mode": {
    "name": "ipython",
    "version": 3
   },
   "file_extension": ".py",
   "mimetype": "text/x-python",
   "name": "python",
   "nbconvert_exporter": "python",
   "pygments_lexer": "ipython3",
   "version": "3.7.1"
  }
 },
 "nbformat": 4,
 "nbformat_minor": 2
}
